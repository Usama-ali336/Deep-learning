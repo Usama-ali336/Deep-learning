{
 "cells": [
  {
   "cell_type": "code",
   "execution_count": 1,
   "id": "1a30dbed",
   "metadata": {},
   "outputs": [
    {
     "name": "stderr",
     "output_type": "stream",
     "text": [
      "Registered S3 methods overwritten by 'ggplot2':\n",
      "  method         from \n",
      "  [.quosures     rlang\n",
      "  c.quosures     rlang\n",
      "  print.quosures rlang\n"
     ]
    }
   ],
   "source": [
    "# importing libraries\n",
    "library(ggplot2)\n"
   ]
  },
  {
   "cell_type": "code",
   "execution_count": 2,
   "id": "c52b880a",
   "metadata": {},
   "outputs": [],
   "source": [
    "df <- read.csv(\"T:\\\\MS Data Science\\\\Second Semester\\\\Statistical Learning\\\\water_potability_train.csv\")"
   ]
  },
  {
   "cell_type": "code",
   "execution_count": 3,
   "id": "5c1639fd",
   "metadata": {},
   "outputs": [],
   "source": [
    "test_data <-  read.csv(\"T:\\\\MS Data Science\\\\Second Semester\\\\Statistical Learning\\\\water_potability_test.csv\")"
   ]
  },
  {
   "cell_type": "code",
   "execution_count": 4,
   "id": "a393ba2b",
   "metadata": {},
   "outputs": [
    {
     "data": {
      "text/html": [
       "<table>\n",
       "<thead><tr><th scope=col>X</th><th scope=col>ph</th><th scope=col>Hardness</th><th scope=col>Solids</th><th scope=col>Chloramines</th><th scope=col>Sulfate</th><th scope=col>Conductivity</th><th scope=col>Organic_carbon</th><th scope=col>Trihalomethanes</th><th scope=col>Turbidity</th><th scope=col>id_number</th></tr></thead>\n",
       "<tbody>\n",
       "\t<tr><td>2855    </td><td>6.903074</td><td>206.9225</td><td>17947.99</td><td>7.048017</td><td>      NA</td><td>601.9852</td><td>11.77511</td><td>58.17626</td><td>4.473887</td><td>1       </td></tr>\n",
       "\t<tr><td>2795    </td><td>6.166348</td><td>210.0866</td><td>37922.91</td><td>6.760221</td><td>      NA</td><td>217.3583</td><td>12.28924</td><td>39.97810</td><td>4.816304</td><td>2       </td></tr>\n",
       "\t<tr><td>2037    </td><td>7.276863</td><td>165.7980</td><td>30396.90</td><td>7.835639</td><td>281.8969</td><td>475.6461</td><td>12.32618</td><td>83.39989</td><td>6.083772</td><td>3       </td></tr>\n",
       "\t<tr><td>1986    </td><td>6.266800</td><td>187.8296</td><td>27577.21</td><td>9.141597</td><td>322.9178</td><td>277.0508</td><td>13.29025</td><td>59.45432</td><td>3.652845</td><td>4       </td></tr>\n",
       "\t<tr><td>2437    </td><td>5.896432</td><td>165.1357</td><td>23022.17</td><td>7.536806</td><td>356.7562</td><td>401.7409</td><td>18.36357</td><td>80.12475</td><td>4.280793</td><td>5       </td></tr>\n",
       "\t<tr><td>2832    </td><td>5.089388</td><td>147.9953</td><td>39659.88</td><td>8.424878</td><td>      NA</td><td>498.7009</td><td>14.94358</td><td>84.25426</td><td>3.054045</td><td>6       </td></tr>\n",
       "</tbody>\n",
       "</table>\n"
      ],
      "text/latex": [
       "\\begin{tabular}{r|lllllllllll}\n",
       " X & ph & Hardness & Solids & Chloramines & Sulfate & Conductivity & Organic\\_carbon & Trihalomethanes & Turbidity & id\\_number\\\\\n",
       "\\hline\n",
       "\t 2855     & 6.903074 & 206.9225 & 17947.99 & 7.048017 &       NA & 601.9852 & 11.77511 & 58.17626 & 4.473887 & 1       \\\\\n",
       "\t 2795     & 6.166348 & 210.0866 & 37922.91 & 6.760221 &       NA & 217.3583 & 12.28924 & 39.97810 & 4.816304 & 2       \\\\\n",
       "\t 2037     & 7.276863 & 165.7980 & 30396.90 & 7.835639 & 281.8969 & 475.6461 & 12.32618 & 83.39989 & 6.083772 & 3       \\\\\n",
       "\t 1986     & 6.266800 & 187.8296 & 27577.21 & 9.141597 & 322.9178 & 277.0508 & 13.29025 & 59.45432 & 3.652845 & 4       \\\\\n",
       "\t 2437     & 5.896432 & 165.1357 & 23022.17 & 7.536806 & 356.7562 & 401.7409 & 18.36357 & 80.12475 & 4.280793 & 5       \\\\\n",
       "\t 2832     & 5.089388 & 147.9953 & 39659.88 & 8.424878 &       NA & 498.7009 & 14.94358 & 84.25426 & 3.054045 & 6       \\\\\n",
       "\\end{tabular}\n"
      ],
      "text/markdown": [
       "\n",
       "| X | ph | Hardness | Solids | Chloramines | Sulfate | Conductivity | Organic_carbon | Trihalomethanes | Turbidity | id_number |\n",
       "|---|---|---|---|---|---|---|---|---|---|---|\n",
       "| 2855     | 6.903074 | 206.9225 | 17947.99 | 7.048017 |       NA | 601.9852 | 11.77511 | 58.17626 | 4.473887 | 1        |\n",
       "| 2795     | 6.166348 | 210.0866 | 37922.91 | 6.760221 |       NA | 217.3583 | 12.28924 | 39.97810 | 4.816304 | 2        |\n",
       "| 2037     | 7.276863 | 165.7980 | 30396.90 | 7.835639 | 281.8969 | 475.6461 | 12.32618 | 83.39989 | 6.083772 | 3        |\n",
       "| 1986     | 6.266800 | 187.8296 | 27577.21 | 9.141597 | 322.9178 | 277.0508 | 13.29025 | 59.45432 | 3.652845 | 4        |\n",
       "| 2437     | 5.896432 | 165.1357 | 23022.17 | 7.536806 | 356.7562 | 401.7409 | 18.36357 | 80.12475 | 4.280793 | 5        |\n",
       "| 2832     | 5.089388 | 147.9953 | 39659.88 | 8.424878 |       NA | 498.7009 | 14.94358 | 84.25426 | 3.054045 | 6        |\n",
       "\n"
      ],
      "text/plain": [
       "  X    ph       Hardness Solids   Chloramines Sulfate  Conductivity\n",
       "1 2855 6.903074 206.9225 17947.99 7.048017          NA 601.9852    \n",
       "2 2795 6.166348 210.0866 37922.91 6.760221          NA 217.3583    \n",
       "3 2037 7.276863 165.7980 30396.90 7.835639    281.8969 475.6461    \n",
       "4 1986 6.266800 187.8296 27577.21 9.141597    322.9178 277.0508    \n",
       "5 2437 5.896432 165.1357 23022.17 7.536806    356.7562 401.7409    \n",
       "6 2832 5.089388 147.9953 39659.88 8.424878          NA 498.7009    \n",
       "  Organic_carbon Trihalomethanes Turbidity id_number\n",
       "1 11.77511       58.17626        4.473887  1        \n",
       "2 12.28924       39.97810        4.816304  2        \n",
       "3 12.32618       83.39989        6.083772  3        \n",
       "4 13.29025       59.45432        3.652845  4        \n",
       "5 18.36357       80.12475        4.280793  5        \n",
       "6 14.94358       84.25426        3.054045  6        "
      ]
     },
     "metadata": {},
     "output_type": "display_data"
    }
   ],
   "source": [
    "head(test_data)"
   ]
  },
  {
   "cell_type": "code",
   "execution_count": 24,
   "id": "eb4d171e",
   "metadata": {},
   "outputs": [
    {
     "data": {
      "text/html": [
       "<table>\n",
       "<thead><tr><th scope=col>ph</th><th scope=col>Hardness</th><th scope=col>Solids</th><th scope=col>Chloramines</th><th scope=col>Sulfate</th><th scope=col>Conductivity</th><th scope=col>Organic_carbon</th><th scope=col>Trihalomethanes</th><th scope=col>Turbidity</th><th scope=col>Potability</th></tr></thead>\n",
       "<tbody>\n",
       "\t<tr><td>5.782079 </td><td>200.4048 </td><td>25366.121</td><td>9.270066 </td><td>      NA </td><td>525.5330 </td><td>10.67552 </td><td>54.08109 </td><td>5.059362 </td><td>1        </td></tr>\n",
       "\t<tr><td>5.736676 </td><td>180.2909 </td><td>12683.483</td><td>7.907877 </td><td>423.8763 </td><td>415.0066 </td><td>12.39287 </td><td>83.70705 </td><td>2.741791 </td><td>1        </td></tr>\n",
       "\t<tr><td>4.897692 </td><td>169.2358 </td><td>14676.716</td><td>8.318607 </td><td>      NA </td><td>437.5387 </td><td>16.21914 </td><td>81.94781 </td><td>3.894464 </td><td>1        </td></tr>\n",
       "\t<tr><td>6.910765 </td><td>242.0913 </td><td> 7764.438</td><td>8.045870 </td><td>440.6355 </td><td>487.9323 </td><td>18.37680 </td><td>45.30654 </td><td>4.340149 </td><td>1        </td></tr>\n",
       "\t<tr><td>8.501711 </td><td>193.9089 </td><td>21289.180</td><td>7.108190 </td><td>      NA </td><td>393.1767 </td><td>13.64324 </td><td>61.12508 </td><td>5.612296 </td><td>1        </td></tr>\n",
       "\t<tr><td>4.303575 </td><td>227.0071 </td><td> 7323.302</td><td>7.490508 </td><td>326.6952 </td><td>412.8964 </td><td>12.90673 </td><td>68.74892 </td><td>2.010537 </td><td>1        </td></tr>\n",
       "</tbody>\n",
       "</table>\n"
      ],
      "text/latex": [
       "\\begin{tabular}{r|llllllllll}\n",
       " ph & Hardness & Solids & Chloramines & Sulfate & Conductivity & Organic\\_carbon & Trihalomethanes & Turbidity & Potability\\\\\n",
       "\\hline\n",
       "\t 5.782079  & 200.4048  & 25366.121 & 9.270066  &       NA  & 525.5330  & 10.67552  & 54.08109  & 5.059362  & 1        \\\\\n",
       "\t 5.736676  & 180.2909  & 12683.483 & 7.907877  & 423.8763  & 415.0066  & 12.39287  & 83.70705  & 2.741791  & 1        \\\\\n",
       "\t 4.897692  & 169.2358  & 14676.716 & 8.318607  &       NA  & 437.5387  & 16.21914  & 81.94781  & 3.894464  & 1        \\\\\n",
       "\t 6.910765  & 242.0913  &  7764.438 & 8.045870  & 440.6355  & 487.9323  & 18.37680  & 45.30654  & 4.340149  & 1        \\\\\n",
       "\t 8.501711  & 193.9089  & 21289.180 & 7.108190  &       NA  & 393.1767  & 13.64324  & 61.12508  & 5.612296  & 1        \\\\\n",
       "\t 4.303575  & 227.0071  &  7323.302 & 7.490508  & 326.6952  & 412.8964  & 12.90673  & 68.74892  & 2.010537  & 1        \\\\\n",
       "\\end{tabular}\n"
      ],
      "text/markdown": [
       "\n",
       "| ph | Hardness | Solids | Chloramines | Sulfate | Conductivity | Organic_carbon | Trihalomethanes | Turbidity | Potability |\n",
       "|---|---|---|---|---|---|---|---|---|---|\n",
       "| 5.782079  | 200.4048  | 25366.121 | 9.270066  |       NA  | 525.5330  | 10.67552  | 54.08109  | 5.059362  | 1         |\n",
       "| 5.736676  | 180.2909  | 12683.483 | 7.907877  | 423.8763  | 415.0066  | 12.39287  | 83.70705  | 2.741791  | 1         |\n",
       "| 4.897692  | 169.2358  | 14676.716 | 8.318607  |       NA  | 437.5387  | 16.21914  | 81.94781  | 3.894464  | 1         |\n",
       "| 6.910765  | 242.0913  |  7764.438 | 8.045870  | 440.6355  | 487.9323  | 18.37680  | 45.30654  | 4.340149  | 1         |\n",
       "| 8.501711  | 193.9089  | 21289.180 | 7.108190  |       NA  | 393.1767  | 13.64324  | 61.12508  | 5.612296  | 1         |\n",
       "| 4.303575  | 227.0071  |  7323.302 | 7.490508  | 326.6952  | 412.8964  | 12.90673  | 68.74892  | 2.010537  | 1         |\n",
       "\n"
      ],
      "text/plain": [
       "  ph       Hardness Solids    Chloramines Sulfate  Conductivity Organic_carbon\n",
       "1 5.782079 200.4048 25366.121 9.270066          NA 525.5330     10.67552      \n",
       "2 5.736676 180.2909 12683.483 7.907877    423.8763 415.0066     12.39287      \n",
       "3 4.897692 169.2358 14676.716 8.318607          NA 437.5387     16.21914      \n",
       "4 6.910765 242.0913  7764.438 8.045870    440.6355 487.9323     18.37680      \n",
       "5 8.501711 193.9089 21289.180 7.108190          NA 393.1767     13.64324      \n",
       "6 4.303575 227.0071  7323.302 7.490508    326.6952 412.8964     12.90673      \n",
       "  Trihalomethanes Turbidity Potability\n",
       "1 54.08109        5.059362  1         \n",
       "2 83.70705        2.741791  1         \n",
       "3 81.94781        3.894464  1         \n",
       "4 45.30654        4.340149  1         \n",
       "5 61.12508        5.612296  1         \n",
       "6 68.74892        2.010537  1         "
      ]
     },
     "metadata": {},
     "output_type": "display_data"
    }
   ],
   "source": [
    "df <- subset(df,select=-X)\n",
    "head(df)"
   ]
  },
  {
   "cell_type": "code",
   "execution_count": 6,
   "id": "2c0fb315",
   "metadata": {},
   "outputs": [
    {
     "name": "stdout",
     "output_type": "stream",
     "text": [
      "'data.frame':\t2620 obs. of  11 variables:\n",
      " $ X              : int  2757 1580 714 2824 1094 1152 1156 1108 801 2429 ...\n",
      " $ ph             : num  5.78 5.74 4.9 6.91 8.5 ...\n",
      " $ Hardness       : num  200 180 169 242 194 ...\n",
      " $ Solids         : num  25366 12683 14677 7764 21289 ...\n",
      " $ Chloramines    : num  9.27 7.91 8.32 8.05 7.11 ...\n",
      " $ Sulfate        : num  NA 424 NA 441 NA ...\n",
      " $ Conductivity   : num  526 415 438 488 393 ...\n",
      " $ Organic_carbon : num  10.7 12.4 16.2 18.4 13.6 ...\n",
      " $ Trihalomethanes: num  54.1 83.7 81.9 45.3 61.1 ...\n",
      " $ Turbidity      : num  5.06 2.74 3.89 4.34 5.61 ...\n",
      " $ Potability     : int  1 1 1 1 1 1 1 1 1 1 ...\n"
     ]
    }
   ],
   "source": [
    "str(df)"
   ]
  },
  {
   "cell_type": "code",
   "execution_count": 7,
   "id": "631b6012",
   "metadata": {},
   "outputs": [
    {
     "ename": "ERROR",
     "evalue": "Error in print(sum(complete_data$Potability == 1)): object 'complete_data' not found\n",
     "output_type": "error",
     "traceback": [
      "Error in print(sum(complete_data$Potability == 1)): object 'complete_data' not found\nTraceback:\n",
      "1. print(sum(complete_data$Potability == 1))"
     ]
    }
   ],
   "source": [
    "#positive class\n",
    "print(sum(complete_data$Potability==1))\n",
    "# negative class\n",
    "print(sum(complete_data$Potability==0))"
   ]
  },
  {
   "cell_type": "code",
   "execution_count": 5,
   "id": "6b8844c3",
   "metadata": {},
   "outputs": [],
   "source": [
    "# separting each variable\n",
    "ph <- df$ph\n",
    "hardness <- df$Hardness\n",
    "solids <- df$Solids\n",
    "chloramines <- df$Chloramines\n",
    "sulfate <- df$Sulfate"
   ]
  },
  {
   "cell_type": "code",
   "execution_count": 6,
   "id": "40e101b7",
   "metadata": {},
   "outputs": [],
   "source": [
    "# Missing values\n",
    "# Q1 In which variable is the data missing\n",
    "# Q2 How much the data is missing?"
   ]
  },
  {
   "cell_type": "code",
   "execution_count": 7,
   "id": "3fde9ca7",
   "metadata": {},
   "outputs": [
    {
     "data": {
      "text/html": [
       "<dl class=dl-horizontal>\n",
       "\t<dt>Sulfate</dt>\n",
       "\t\t<dd>24.3511450381679</dd>\n",
       "\t<dt>ph</dt>\n",
       "\t\t<dd>14.9236641221374</dd>\n",
       "\t<dt>Trihalomethanes</dt>\n",
       "\t\t<dd>4.9236641221374</dd>\n",
       "</dl>\n"
      ],
      "text/latex": [
       "\\begin{description*}\n",
       "\\item[Sulfate] 24.3511450381679\n",
       "\\item[ph] 14.9236641221374\n",
       "\\item[Trihalomethanes] 4.9236641221374\n",
       "\\end{description*}\n"
      ],
      "text/markdown": [
       "Sulfate\n",
       ":   24.3511450381679ph\n",
       ":   14.9236641221374Trihalomethanes\n",
       ":   4.9236641221374\n",
       "\n"
      ],
      "text/plain": [
       "        Sulfate              ph Trihalomethanes \n",
       "      24.351145       14.923664        4.923664 "
      ]
     },
     "metadata": {},
     "output_type": "display_data"
    }
   ],
   "source": [
    "missing_values <- (apply(df, 2, function(x) sum(is.na(x)))/nrow(df))*100\n",
    "sort(missing_values[missing_values>0],decreasing=TRUE)"
   ]
  },
  {
   "cell_type": "code",
   "execution_count": null,
   "id": "2b80734b",
   "metadata": {},
   "outputs": [],
   "source": []
  },
  {
   "cell_type": "code",
   "execution_count": 8,
   "id": "91ed0448",
   "metadata": {},
   "outputs": [
    {
     "name": "stderr",
     "output_type": "stream",
     "text": [
      "Warning message:\n",
      "\"package 'mice' was built under R version 3.6.3\"\n",
      "Attaching package: 'mice'\n",
      "\n",
      "The following object is masked from 'package:stats':\n",
      "\n",
      "    filter\n",
      "\n",
      "The following objects are masked from 'package:base':\n",
      "\n",
      "    cbind, rbind\n",
      "\n"
     ]
    }
   ],
   "source": [
    "library(mice)\n",
    "\n",
    "tempData <- mice(df, m = 5, method = \"pmm\", seed = 123,print=FALSE)\n",
    "# tempData only contains the imputed missing values not the all values\n",
    "# we can take all the values using 'complete' function of mice package"
   ]
  },
  {
   "cell_type": "code",
   "execution_count": 9,
   "id": "8f376be0",
   "metadata": {
    "scrolled": true
   },
   "outputs": [
    {
     "data": {
      "text/html": [
       "<table>\n",
       "<thead><tr><th></th><th scope=col>X</th><th scope=col>ph</th><th scope=col>Hardness</th><th scope=col>Solids</th><th scope=col>Chloramines</th><th scope=col>Sulfate</th><th scope=col>Conductivity</th><th scope=col>Organic_carbon</th><th scope=col>Trihalomethanes</th><th scope=col>Turbidity</th><th scope=col>Potability</th></tr></thead>\n",
       "<tbody>\n",
       "\t<tr><th scope=row>X</th><td>0</td><td>1</td><td>1</td><td>1</td><td>1</td><td>1</td><td>1</td><td>1</td><td>1</td><td>1</td><td>1</td></tr>\n",
       "\t<tr><th scope=row>ph</th><td>1</td><td>0</td><td>1</td><td>1</td><td>1</td><td>1</td><td>1</td><td>1</td><td>1</td><td>1</td><td>1</td></tr>\n",
       "\t<tr><th scope=row>Hardness</th><td>1</td><td>1</td><td>0</td><td>1</td><td>1</td><td>1</td><td>1</td><td>1</td><td>1</td><td>1</td><td>1</td></tr>\n",
       "\t<tr><th scope=row>Solids</th><td>1</td><td>1</td><td>1</td><td>0</td><td>1</td><td>1</td><td>1</td><td>1</td><td>1</td><td>1</td><td>1</td></tr>\n",
       "\t<tr><th scope=row>Chloramines</th><td>1</td><td>1</td><td>1</td><td>1</td><td>0</td><td>1</td><td>1</td><td>1</td><td>1</td><td>1</td><td>1</td></tr>\n",
       "\t<tr><th scope=row>Sulfate</th><td>1</td><td>1</td><td>1</td><td>1</td><td>1</td><td>0</td><td>1</td><td>1</td><td>1</td><td>1</td><td>1</td></tr>\n",
       "\t<tr><th scope=row>Conductivity</th><td>1</td><td>1</td><td>1</td><td>1</td><td>1</td><td>1</td><td>0</td><td>1</td><td>1</td><td>1</td><td>1</td></tr>\n",
       "\t<tr><th scope=row>Organic_carbon</th><td>1</td><td>1</td><td>1</td><td>1</td><td>1</td><td>1</td><td>1</td><td>0</td><td>1</td><td>1</td><td>1</td></tr>\n",
       "\t<tr><th scope=row>Trihalomethanes</th><td>1</td><td>1</td><td>1</td><td>1</td><td>1</td><td>1</td><td>1</td><td>1</td><td>0</td><td>1</td><td>1</td></tr>\n",
       "\t<tr><th scope=row>Turbidity</th><td>1</td><td>1</td><td>1</td><td>1</td><td>1</td><td>1</td><td>1</td><td>1</td><td>1</td><td>0</td><td>1</td></tr>\n",
       "\t<tr><th scope=row>Potability</th><td>1</td><td>1</td><td>1</td><td>1</td><td>1</td><td>1</td><td>1</td><td>1</td><td>1</td><td>1</td><td>0</td></tr>\n",
       "</tbody>\n",
       "</table>\n"
      ],
      "text/latex": [
       "\\begin{tabular}{r|lllllllllll}\n",
       "  & X & ph & Hardness & Solids & Chloramines & Sulfate & Conductivity & Organic\\_carbon & Trihalomethanes & Turbidity & Potability\\\\\n",
       "\\hline\n",
       "\tX & 0 & 1 & 1 & 1 & 1 & 1 & 1 & 1 & 1 & 1 & 1\\\\\n",
       "\tph & 1 & 0 & 1 & 1 & 1 & 1 & 1 & 1 & 1 & 1 & 1\\\\\n",
       "\tHardness & 1 & 1 & 0 & 1 & 1 & 1 & 1 & 1 & 1 & 1 & 1\\\\\n",
       "\tSolids & 1 & 1 & 1 & 0 & 1 & 1 & 1 & 1 & 1 & 1 & 1\\\\\n",
       "\tChloramines & 1 & 1 & 1 & 1 & 0 & 1 & 1 & 1 & 1 & 1 & 1\\\\\n",
       "\tSulfate & 1 & 1 & 1 & 1 & 1 & 0 & 1 & 1 & 1 & 1 & 1\\\\\n",
       "\tConductivity & 1 & 1 & 1 & 1 & 1 & 1 & 0 & 1 & 1 & 1 & 1\\\\\n",
       "\tOrganic\\_carbon & 1 & 1 & 1 & 1 & 1 & 1 & 1 & 0 & 1 & 1 & 1\\\\\n",
       "\tTrihalomethanes & 1 & 1 & 1 & 1 & 1 & 1 & 1 & 1 & 0 & 1 & 1\\\\\n",
       "\tTurbidity & 1 & 1 & 1 & 1 & 1 & 1 & 1 & 1 & 1 & 0 & 1\\\\\n",
       "\tPotability & 1 & 1 & 1 & 1 & 1 & 1 & 1 & 1 & 1 & 1 & 0\\\\\n",
       "\\end{tabular}\n"
      ],
      "text/markdown": [
       "\n",
       "| <!--/--> | X | ph | Hardness | Solids | Chloramines | Sulfate | Conductivity | Organic_carbon | Trihalomethanes | Turbidity | Potability |\n",
       "|---|---|---|---|---|---|---|---|---|---|---|---|\n",
       "| X | 0 | 1 | 1 | 1 | 1 | 1 | 1 | 1 | 1 | 1 | 1 |\n",
       "| ph | 1 | 0 | 1 | 1 | 1 | 1 | 1 | 1 | 1 | 1 | 1 |\n",
       "| Hardness | 1 | 1 | 0 | 1 | 1 | 1 | 1 | 1 | 1 | 1 | 1 |\n",
       "| Solids | 1 | 1 | 1 | 0 | 1 | 1 | 1 | 1 | 1 | 1 | 1 |\n",
       "| Chloramines | 1 | 1 | 1 | 1 | 0 | 1 | 1 | 1 | 1 | 1 | 1 |\n",
       "| Sulfate | 1 | 1 | 1 | 1 | 1 | 0 | 1 | 1 | 1 | 1 | 1 |\n",
       "| Conductivity | 1 | 1 | 1 | 1 | 1 | 1 | 0 | 1 | 1 | 1 | 1 |\n",
       "| Organic_carbon | 1 | 1 | 1 | 1 | 1 | 1 | 1 | 0 | 1 | 1 | 1 |\n",
       "| Trihalomethanes | 1 | 1 | 1 | 1 | 1 | 1 | 1 | 1 | 0 | 1 | 1 |\n",
       "| Turbidity | 1 | 1 | 1 | 1 | 1 | 1 | 1 | 1 | 1 | 0 | 1 |\n",
       "| Potability | 1 | 1 | 1 | 1 | 1 | 1 | 1 | 1 | 1 | 1 | 0 |\n",
       "\n"
      ],
      "text/plain": [
       "                X ph Hardness Solids Chloramines Sulfate Conductivity\n",
       "X               0 1  1        1      1           1       1           \n",
       "ph              1 0  1        1      1           1       1           \n",
       "Hardness        1 1  0        1      1           1       1           \n",
       "Solids          1 1  1        0      1           1       1           \n",
       "Chloramines     1 1  1        1      0           1       1           \n",
       "Sulfate         1 1  1        1      1           0       1           \n",
       "Conductivity    1 1  1        1      1           1       0           \n",
       "Organic_carbon  1 1  1        1      1           1       1           \n",
       "Trihalomethanes 1 1  1        1      1           1       1           \n",
       "Turbidity       1 1  1        1      1           1       1           \n",
       "Potability      1 1  1        1      1           1       1           \n",
       "                Organic_carbon Trihalomethanes Turbidity Potability\n",
       "X               1              1               1         1         \n",
       "ph              1              1               1         1         \n",
       "Hardness        1              1               1         1         \n",
       "Solids          1              1               1         1         \n",
       "Chloramines     1              1               1         1         \n",
       "Sulfate         1              1               1         1         \n",
       "Conductivity    1              1               1         1         \n",
       "Organic_carbon  0              1               1         1         \n",
       "Trihalomethanes 1              0               1         1         \n",
       "Turbidity       1              1               0         1         \n",
       "Potability      1              1               1         0         "
      ]
     },
     "metadata": {},
     "output_type": "display_data"
    }
   ],
   "source": [
    "tempData$predictorMatrix"
   ]
  },
  {
   "cell_type": "code",
   "execution_count": 10,
   "id": "3a75ec67",
   "metadata": {},
   "outputs": [
    {
     "data": {
      "text/html": [
       "<dl class=dl-horizontal>\n",
       "\t<dt>X</dt>\n",
       "\t\t<dd>''</dd>\n",
       "\t<dt>ph</dt>\n",
       "\t\t<dd>'pmm'</dd>\n",
       "\t<dt>Hardness</dt>\n",
       "\t\t<dd>''</dd>\n",
       "\t<dt>Solids</dt>\n",
       "\t\t<dd>''</dd>\n",
       "\t<dt>Chloramines</dt>\n",
       "\t\t<dd>''</dd>\n",
       "\t<dt>Sulfate</dt>\n",
       "\t\t<dd>'pmm'</dd>\n",
       "\t<dt>Conductivity</dt>\n",
       "\t\t<dd>''</dd>\n",
       "\t<dt>Organic_carbon</dt>\n",
       "\t\t<dd>''</dd>\n",
       "\t<dt>Trihalomethanes</dt>\n",
       "\t\t<dd>'pmm'</dd>\n",
       "\t<dt>Turbidity</dt>\n",
       "\t\t<dd>''</dd>\n",
       "\t<dt>Potability</dt>\n",
       "\t\t<dd>''</dd>\n",
       "</dl>\n"
      ],
      "text/latex": [
       "\\begin{description*}\n",
       "\\item[X] ''\n",
       "\\item[ph] 'pmm'\n",
       "\\item[Hardness] ''\n",
       "\\item[Solids] ''\n",
       "\\item[Chloramines] ''\n",
       "\\item[Sulfate] 'pmm'\n",
       "\\item[Conductivity] ''\n",
       "\\item[Organic\\textbackslash{}\\_carbon] ''\n",
       "\\item[Trihalomethanes] 'pmm'\n",
       "\\item[Turbidity] ''\n",
       "\\item[Potability] ''\n",
       "\\end{description*}\n"
      ],
      "text/markdown": [
       "X\n",
       ":   ''ph\n",
       ":   'pmm'Hardness\n",
       ":   ''Solids\n",
       ":   ''Chloramines\n",
       ":   ''Sulfate\n",
       ":   'pmm'Conductivity\n",
       ":   ''Organic_carbon\n",
       ":   ''Trihalomethanes\n",
       ":   'pmm'Turbidity\n",
       ":   ''Potability\n",
       ":   ''\n",
       "\n"
      ],
      "text/plain": [
       "              X              ph        Hardness          Solids     Chloramines \n",
       "             \"\"           \"pmm\"              \"\"              \"\"              \"\" \n",
       "        Sulfate    Conductivity  Organic_carbon Trihalomethanes       Turbidity \n",
       "          \"pmm\"              \"\"              \"\"           \"pmm\"              \"\" \n",
       "     Potability \n",
       "             \"\" "
      ]
     },
     "metadata": {},
     "output_type": "display_data"
    }
   ],
   "source": [
    "tempData$meth"
   ]
  },
  {
   "cell_type": "code",
   "execution_count": 11,
   "id": "6bf99861",
   "metadata": {},
   "outputs": [
    {
     "data": {
      "text/html": [
       "<table>\n",
       "<thead><tr><th scope=col>X</th><th scope=col>ph</th><th scope=col>Hardness</th><th scope=col>Solids</th><th scope=col>Chloramines</th><th scope=col>Sulfate</th><th scope=col>Conductivity</th><th scope=col>Organic_carbon</th><th scope=col>Trihalomethanes</th><th scope=col>Turbidity</th><th scope=col>Potability</th></tr></thead>\n",
       "<tbody>\n",
       "\t<tr><td>2757     </td><td>5.782079 </td><td>200.4048 </td><td>25366.121</td><td>9.270066 </td><td>234.2856 </td><td>525.5330 </td><td>10.67552 </td><td>54.08109 </td><td>5.059362 </td><td>1        </td></tr>\n",
       "\t<tr><td>1580     </td><td>5.736676 </td><td>180.2909 </td><td>12683.483</td><td>7.907877 </td><td>423.8763 </td><td>415.0066 </td><td>12.39287 </td><td>83.70705 </td><td>2.741791 </td><td>1        </td></tr>\n",
       "\t<tr><td> 714     </td><td>4.897692 </td><td>169.2358 </td><td>14676.716</td><td>8.318607 </td><td>291.1991 </td><td>437.5387 </td><td>16.21914 </td><td>81.94781 </td><td>3.894464 </td><td>1        </td></tr>\n",
       "\t<tr><td>2824     </td><td>6.910765 </td><td>242.0913 </td><td> 7764.438</td><td>8.045870 </td><td>440.6355 </td><td>487.9323 </td><td>18.37680 </td><td>45.30654 </td><td>4.340149 </td><td>1        </td></tr>\n",
       "\t<tr><td>1094     </td><td>8.501711 </td><td>193.9089 </td><td>21289.180</td><td>7.108190 </td><td>320.2601 </td><td>393.1767 </td><td>13.64324 </td><td>61.12508 </td><td>5.612296 </td><td>1        </td></tr>\n",
       "\t<tr><td>1152     </td><td>4.303575 </td><td>227.0071 </td><td> 7323.302</td><td>7.490508 </td><td>326.6952 </td><td>412.8964 </td><td>12.90673 </td><td>68.74892 </td><td>2.010537 </td><td>1        </td></tr>\n",
       "</tbody>\n",
       "</table>\n"
      ],
      "text/latex": [
       "\\begin{tabular}{r|lllllllllll}\n",
       " X & ph & Hardness & Solids & Chloramines & Sulfate & Conductivity & Organic\\_carbon & Trihalomethanes & Turbidity & Potability\\\\\n",
       "\\hline\n",
       "\t 2757      & 5.782079  & 200.4048  & 25366.121 & 9.270066  & 234.2856  & 525.5330  & 10.67552  & 54.08109  & 5.059362  & 1        \\\\\n",
       "\t 1580      & 5.736676  & 180.2909  & 12683.483 & 7.907877  & 423.8763  & 415.0066  & 12.39287  & 83.70705  & 2.741791  & 1        \\\\\n",
       "\t  714      & 4.897692  & 169.2358  & 14676.716 & 8.318607  & 291.1991  & 437.5387  & 16.21914  & 81.94781  & 3.894464  & 1        \\\\\n",
       "\t 2824      & 6.910765  & 242.0913  &  7764.438 & 8.045870  & 440.6355  & 487.9323  & 18.37680  & 45.30654  & 4.340149  & 1        \\\\\n",
       "\t 1094      & 8.501711  & 193.9089  & 21289.180 & 7.108190  & 320.2601  & 393.1767  & 13.64324  & 61.12508  & 5.612296  & 1        \\\\\n",
       "\t 1152      & 4.303575  & 227.0071  &  7323.302 & 7.490508  & 326.6952  & 412.8964  & 12.90673  & 68.74892  & 2.010537  & 1        \\\\\n",
       "\\end{tabular}\n"
      ],
      "text/markdown": [
       "\n",
       "| X | ph | Hardness | Solids | Chloramines | Sulfate | Conductivity | Organic_carbon | Trihalomethanes | Turbidity | Potability |\n",
       "|---|---|---|---|---|---|---|---|---|---|---|\n",
       "| 2757      | 5.782079  | 200.4048  | 25366.121 | 9.270066  | 234.2856  | 525.5330  | 10.67552  | 54.08109  | 5.059362  | 1         |\n",
       "| 1580      | 5.736676  | 180.2909  | 12683.483 | 7.907877  | 423.8763  | 415.0066  | 12.39287  | 83.70705  | 2.741791  | 1         |\n",
       "|  714      | 4.897692  | 169.2358  | 14676.716 | 8.318607  | 291.1991  | 437.5387  | 16.21914  | 81.94781  | 3.894464  | 1         |\n",
       "| 2824      | 6.910765  | 242.0913  |  7764.438 | 8.045870  | 440.6355  | 487.9323  | 18.37680  | 45.30654  | 4.340149  | 1         |\n",
       "| 1094      | 8.501711  | 193.9089  | 21289.180 | 7.108190  | 320.2601  | 393.1767  | 13.64324  | 61.12508  | 5.612296  | 1         |\n",
       "| 1152      | 4.303575  | 227.0071  |  7323.302 | 7.490508  | 326.6952  | 412.8964  | 12.90673  | 68.74892  | 2.010537  | 1         |\n",
       "\n"
      ],
      "text/plain": [
       "  X    ph       Hardness Solids    Chloramines Sulfate  Conductivity\n",
       "1 2757 5.782079 200.4048 25366.121 9.270066    234.2856 525.5330    \n",
       "2 1580 5.736676 180.2909 12683.483 7.907877    423.8763 415.0066    \n",
       "3  714 4.897692 169.2358 14676.716 8.318607    291.1991 437.5387    \n",
       "4 2824 6.910765 242.0913  7764.438 8.045870    440.6355 487.9323    \n",
       "5 1094 8.501711 193.9089 21289.180 7.108190    320.2601 393.1767    \n",
       "6 1152 4.303575 227.0071  7323.302 7.490508    326.6952 412.8964    \n",
       "  Organic_carbon Trihalomethanes Turbidity Potability\n",
       "1 10.67552       54.08109        5.059362  1         \n",
       "2 12.39287       83.70705        2.741791  1         \n",
       "3 16.21914       81.94781        3.894464  1         \n",
       "4 18.37680       45.30654        4.340149  1         \n",
       "5 13.64324       61.12508        5.612296  1         \n",
       "6 12.90673       68.74892        2.010537  1         "
      ]
     },
     "metadata": {},
     "output_type": "display_data"
    }
   ],
   "source": [
    "complete_data <- complete(tempData, 1)\n",
    "head(complete_data)"
   ]
  },
  {
   "cell_type": "code",
   "execution_count": 12,
   "id": "a59aa5f9",
   "metadata": {},
   "outputs": [
    {
     "data": {
      "text/html": [
       "<dl class=dl-horizontal>\n",
       "\t<dt>X</dt>\n",
       "\t\t<dd>0</dd>\n",
       "\t<dt>ph</dt>\n",
       "\t\t<dd>0</dd>\n",
       "\t<dt>Hardness</dt>\n",
       "\t\t<dd>0</dd>\n",
       "\t<dt>Solids</dt>\n",
       "\t\t<dd>0</dd>\n",
       "\t<dt>Chloramines</dt>\n",
       "\t\t<dd>0</dd>\n",
       "\t<dt>Sulfate</dt>\n",
       "\t\t<dd>0</dd>\n",
       "\t<dt>Conductivity</dt>\n",
       "\t\t<dd>0</dd>\n",
       "\t<dt>Organic_carbon</dt>\n",
       "\t\t<dd>0</dd>\n",
       "\t<dt>Trihalomethanes</dt>\n",
       "\t\t<dd>0</dd>\n",
       "\t<dt>Turbidity</dt>\n",
       "\t\t<dd>0</dd>\n",
       "\t<dt>Potability</dt>\n",
       "\t\t<dd>0</dd>\n",
       "</dl>\n"
      ],
      "text/latex": [
       "\\begin{description*}\n",
       "\\item[X] 0\n",
       "\\item[ph] 0\n",
       "\\item[Hardness] 0\n",
       "\\item[Solids] 0\n",
       "\\item[Chloramines] 0\n",
       "\\item[Sulfate] 0\n",
       "\\item[Conductivity] 0\n",
       "\\item[Organic\\textbackslash{}\\_carbon] 0\n",
       "\\item[Trihalomethanes] 0\n",
       "\\item[Turbidity] 0\n",
       "\\item[Potability] 0\n",
       "\\end{description*}\n"
      ],
      "text/markdown": [
       "X\n",
       ":   0ph\n",
       ":   0Hardness\n",
       ":   0Solids\n",
       ":   0Chloramines\n",
       ":   0Sulfate\n",
       ":   0Conductivity\n",
       ":   0Organic_carbon\n",
       ":   0Trihalomethanes\n",
       ":   0Turbidity\n",
       ":   0Potability\n",
       ":   0\n",
       "\n"
      ],
      "text/plain": [
       "              X              ph        Hardness          Solids     Chloramines \n",
       "              0               0               0               0               0 \n",
       "        Sulfate    Conductivity  Organic_carbon Trihalomethanes       Turbidity \n",
       "              0               0               0               0               0 \n",
       "     Potability \n",
       "              0 "
      ]
     },
     "metadata": {},
     "output_type": "display_data"
    }
   ],
   "source": [
    "# Now we can see all the values imputed\n",
    "missing_values <- (apply(complete_data, 2, function(x) sum(is.na(x)))/nrow(df))*100\n",
    "missing_values"
   ]
  },
  {
   "cell_type": "code",
   "execution_count": 175,
   "id": "86388336",
   "metadata": {},
   "outputs": [
    {
     "data": {
      "text/html": [
       "129"
      ],
      "text/latex": [
       "129"
      ],
      "text/markdown": [
       "129"
      ],
      "text/plain": [
       "[1] 129"
      ]
     },
     "metadata": {},
     "output_type": "display_data"
    }
   ],
   "source": [
    "# \n",
    "nrow(tempData$imp$Trihalomethanes)"
   ]
  },
  {
   "cell_type": "code",
   "execution_count": 31,
   "id": "5b488156",
   "metadata": {},
   "outputs": [],
   "source": [
    "# Analysis, how similar the imputed data with original data\n"
   ]
  },
  {
   "cell_type": "code",
   "execution_count": 32,
   "id": "7b06c76a",
   "metadata": {},
   "outputs": [
    {
     "data": {
      "image/png": "[encoded data removed]",
      "text/plain": [
       "plot without title"
      ]
     },
     "metadata": {},
     "output_type": "display_data"
    }
   ],
   "source": [
    "xyplot(tempData,Potability ~ ph + Hardness + Solids + Chloramines + Sulfate + Conductivity + Organic_carbon + Trihalomethanes + Turbidity ,pch=18,cex=1)"
   ]
  },
  {
   "cell_type": "code",
   "execution_count": 23,
   "id": "00bd35d0",
   "metadata": {},
   "outputs": [
    {
     "data": {
      "image/png": "[encoded data removed]",
      "text/plain": [
       "plot without title"
      ]
     },
     "metadata": {},
     "output_type": "display_data"
    }
   ],
   "source": [
    "densityplot(tempData)"
   ]
  },
  {
   "cell_type": "code",
   "execution_count": 24,
   "id": "983c69ab",
   "metadata": {},
   "outputs": [
    {
     "data": {
      "image/png": "[encoded data removed]",
      "text/plain": [
       "plot without title"
      ]
     },
     "metadata": {},
     "output_type": "display_data"
    }
   ],
   "source": [
    "# from striplots we can see the imputed values are plausible\n",
    "stripplot(tempData, pch = 20, cex = 1.2)"
   ]
  },
  {
   "cell_type": "code",
   "execution_count": null,
   "id": "fd3f1e50",
   "metadata": {},
   "outputs": [],
   "source": [
    "# Now closes the missing values topics, just write what you concluded"
   ]
  },
  {
   "cell_type": "code",
   "execution_count": 32,
   "id": "cf754d45",
   "metadata": {},
   "outputs": [],
   "source": [
    "models <- with(imputed_data, lm(Potability ~ ph + Hardness + Solids + Chloramines + Sulfate + Conductivity + Organic_carbon + Trihalomethanes + Turbidity))"
   ]
  },
  {
   "cell_type": "code",
   "execution_count": 21,
   "id": "6931ce07",
   "metadata": {},
   "outputs": [
    {
     "data": {
      "text/html": [
       "<table>\n",
       "<thead><tr><th scope=col>term</th><th scope=col>estimate</th><th scope=col>std.error</th><th scope=col>statistic</th><th scope=col>df</th><th scope=col>p.value</th></tr></thead>\n",
       "<tbody>\n",
       "\t<tr><td>(Intercept)    </td><td> 3.386403e-01  </td><td>1.593537e-01   </td><td> 2.12508558    </td><td> 799.89193     </td><td>0.03388543     </td></tr>\n",
       "\t<tr><td>ph             </td><td>-4.824901e-04  </td><td>6.674495e-03   </td><td>-0.07228864    </td><td>  85.33814     </td><td>0.94254136     </td></tr>\n",
       "\t<tr><td>Hardness       </td><td> 5.248777e-05  </td><td>2.926765e-04   </td><td> 0.17933714    </td><td>2512.38085     </td><td>0.85768745     </td></tr>\n",
       "\t<tr><td>Solids         </td><td> 1.873298e-06  </td><td>1.122647e-06   </td><td> 1.66864314    </td><td>2509.08094     </td><td>0.09531289     </td></tr>\n",
       "\t<tr><td>Chloramines    </td><td> 6.528093e-03  </td><td>6.022745e-03   </td><td> 1.08390655    </td><td>2605.52786     </td><td>0.27850652     </td></tr>\n",
       "\t<tr><td>Sulfate        </td><td>-1.047016e-05  </td><td>2.709108e-04   </td><td>-0.03864798    </td><td>  59.64706     </td><td>0.96930012     </td></tr>\n",
       "\t<tr><td>Conductivity   </td><td>-2.095267e-05  </td><td>1.181438e-04   </td><td>-0.17734889    </td><td>2607.06347     </td><td>0.85924813     </td></tr>\n",
       "\t<tr><td>Organic_carbon </td><td>-4.899176e-03  </td><td>2.892105e-03   </td><td>-1.69398291    </td><td>2605.92108     </td><td>0.09038803     </td></tr>\n",
       "\t<tr><td>Trihalomethanes</td><td> 3.636768e-04  </td><td>6.054741e-04   </td><td> 0.60064787    </td><td> 792.46082     </td><td>0.54824629     </td></tr>\n",
       "\t<tr><td>Turbidity      </td><td> 3.702826e-03  </td><td>1.222677e-02   </td><td> 0.30284567    </td><td>2606.93239     </td><td>0.76203164     </td></tr>\n",
       "</tbody>\n",
       "</table>\n"
      ],
      "text/latex": [
       "\\begin{tabular}{r|llllll}\n",
       " term & estimate & std.error & statistic & df & p.value\\\\\n",
       "\\hline\n",
       "\t (Intercept)     &  3.386403e-01   & 1.593537e-01    &  2.12508558     &  799.89193      & 0.03388543     \\\\\n",
       "\t ph              & -4.824901e-04   & 6.674495e-03    & -0.07228864     &   85.33814      & 0.94254136     \\\\\n",
       "\t Hardness        &  5.248777e-05   & 2.926765e-04    &  0.17933714     & 2512.38085      & 0.85768745     \\\\\n",
       "\t Solids          &  1.873298e-06   & 1.122647e-06    &  1.66864314     & 2509.08094      & 0.09531289     \\\\\n",
       "\t Chloramines     &  6.528093e-03   & 6.022745e-03    &  1.08390655     & 2605.52786      & 0.27850652     \\\\\n",
       "\t Sulfate         & -1.047016e-05   & 2.709108e-04    & -0.03864798     &   59.64706      & 0.96930012     \\\\\n",
       "\t Conductivity    & -2.095267e-05   & 1.181438e-04    & -0.17734889     & 2607.06347      & 0.85924813     \\\\\n",
       "\t Organic\\_carbon  & -4.899176e-03     & 2.892105e-03      & -1.69398291       & 2605.92108        & 0.09038803       \\\\\n",
       "\t Trihalomethanes &  3.636768e-04   & 6.054741e-04    &  0.60064787     &  792.46082      & 0.54824629     \\\\\n",
       "\t Turbidity       &  3.702826e-03   & 1.222677e-02    &  0.30284567     & 2606.93239      & 0.76203164     \\\\\n",
       "\\end{tabular}\n"
      ],
      "text/markdown": [
       "\n",
       "| term | estimate | std.error | statistic | df | p.value |\n",
       "|---|---|---|---|---|---|\n",
       "| (Intercept)     |  3.386403e-01   | 1.593537e-01    |  2.12508558     |  799.89193      | 0.03388543      |\n",
       "| ph              | -4.824901e-04   | 6.674495e-03    | -0.07228864     |   85.33814      | 0.94254136      |\n",
       "| Hardness        |  5.248777e-05   | 2.926765e-04    |  0.17933714     | 2512.38085      | 0.85768745      |\n",
       "| Solids          |  1.873298e-06   | 1.122647e-06    |  1.66864314     | 2509.08094      | 0.09531289      |\n",
       "| Chloramines     |  6.528093e-03   | 6.022745e-03    |  1.08390655     | 2605.52786      | 0.27850652      |\n",
       "| Sulfate         | -1.047016e-05   | 2.709108e-04    | -0.03864798     |   59.64706      | 0.96930012      |\n",
       "| Conductivity    | -2.095267e-05   | 1.181438e-04    | -0.17734889     | 2607.06347      | 0.85924813      |\n",
       "| Organic_carbon  | -4.899176e-03   | 2.892105e-03    | -1.69398291     | 2605.92108      | 0.09038803      |\n",
       "| Trihalomethanes |  3.636768e-04   | 6.054741e-04    |  0.60064787     |  792.46082      | 0.54824629      |\n",
       "| Turbidity       |  3.702826e-03   | 1.222677e-02    |  0.30284567     | 2606.93239      | 0.76203164      |\n",
       "\n"
      ],
      "text/plain": [
       "   term            estimate      std.error    statistic   df         p.value   \n",
       "1  (Intercept)      3.386403e-01 1.593537e-01  2.12508558  799.89193 0.03388543\n",
       "2  ph              -4.824901e-04 6.674495e-03 -0.07228864   85.33814 0.94254136\n",
       "3  Hardness         5.248777e-05 2.926765e-04  0.17933714 2512.38085 0.85768745\n",
       "4  Solids           1.873298e-06 1.122647e-06  1.66864314 2509.08094 0.09531289\n",
       "5  Chloramines      6.528093e-03 6.022745e-03  1.08390655 2605.52786 0.27850652\n",
       "6  Sulfate         -1.047016e-05 2.709108e-04 -0.03864798   59.64706 0.96930012\n",
       "7  Conductivity    -2.095267e-05 1.181438e-04 -0.17734889 2607.06347 0.85924813\n",
       "8  Organic_carbon  -4.899176e-03 2.892105e-03 -1.69398291 2605.92108 0.09038803\n",
       "9  Trihalomethanes  3.636768e-04 6.054741e-04  0.60064787  792.46082 0.54824629\n",
       "10 Turbidity        3.702826e-03 1.222677e-02  0.30284567 2606.93239 0.76203164"
      ]
     },
     "metadata": {},
     "output_type": "display_data"
    }
   ],
   "source": [
    "pooled <- pool(models)\n",
    "summary(pooled)"
   ]
  },
  {
   "cell_type": "code",
   "execution_count": null,
   "id": "4125e932",
   "metadata": {},
   "outputs": [],
   "source": [
    "# should we don't need to remove some of the variables instead of imputing "
   ]
  },
  {
   "cell_type": "code",
   "execution_count": 40,
   "id": "c1dce446",
   "metadata": {},
   "outputs": [
    {
     "data": {
      "text/html": [
       "<table>\n",
       "<thead><tr><th></th><th scope=col>X</th><th scope=col>Hardness</th><th scope=col>Solids</th><th scope=col>Chloramines</th><th scope=col>Conductivity</th><th scope=col>Organic_carbon</th><th scope=col>Turbidity</th><th scope=col>Potability</th><th scope=col>Trihalomethanes</th><th scope=col>ph</th><th scope=col>Sulfate</th><th scope=col></th></tr></thead>\n",
       "<tbody>\n",
       "\t<tr><th scope=row>1591</th><td>1   </td><td>1   </td><td>1   </td><td>1   </td><td>1   </td><td>1   </td><td>1   </td><td>1   </td><td>  1 </td><td>  1 </td><td>  1 </td><td>   0</td></tr>\n",
       "\t<tr><th scope=row>529</th><td>1   </td><td>1   </td><td>1   </td><td>1   </td><td>1   </td><td>1   </td><td>1   </td><td>1   </td><td>  1 </td><td>  1 </td><td>  0 </td><td>   1</td></tr>\n",
       "\t<tr><th scope=row>291</th><td>1   </td><td>1   </td><td>1   </td><td>1   </td><td>1   </td><td>1   </td><td>1   </td><td>1   </td><td>  1 </td><td>  0 </td><td>  1 </td><td>   1</td></tr>\n",
       "\t<tr><th scope=row>80</th><td>1   </td><td>1   </td><td>1   </td><td>1   </td><td>1   </td><td>1   </td><td>1   </td><td>1   </td><td>  1 </td><td>  0 </td><td>  0 </td><td>   2</td></tr>\n",
       "\t<tr><th scope=row>85</th><td>1   </td><td>1   </td><td>1   </td><td>1   </td><td>1   </td><td>1   </td><td>1   </td><td>1   </td><td>  0 </td><td>  1 </td><td>  1 </td><td>   1</td></tr>\n",
       "\t<tr><th scope=row>24</th><td>1   </td><td>1   </td><td>1   </td><td>1   </td><td>1   </td><td>1   </td><td>1   </td><td>1   </td><td>  0 </td><td>  1 </td><td>  0 </td><td>   2</td></tr>\n",
       "\t<tr><th scope=row>15</th><td>1   </td><td>1   </td><td>1   </td><td>1   </td><td>1   </td><td>1   </td><td>1   </td><td>1   </td><td>  0 </td><td>  0 </td><td>  1 </td><td>   2</td></tr>\n",
       "\t<tr><th scope=row>5</th><td>1   </td><td>1   </td><td>1   </td><td>1   </td><td>1   </td><td>1   </td><td>1   </td><td>1   </td><td>  0 </td><td>  0 </td><td>  0 </td><td>   3</td></tr>\n",
       "\t<tr><th scope=row></th><td>0   </td><td>0   </td><td>0   </td><td>0   </td><td>0   </td><td>0   </td><td>0   </td><td>0   </td><td>129 </td><td>391 </td><td>638 </td><td>1158</td></tr>\n",
       "</tbody>\n",
       "</table>\n"
      ],
      "text/latex": [
       "\\begin{tabular}{r|llllllllllll}\n",
       "  & X & Hardness & Solids & Chloramines & Conductivity & Organic\\_carbon & Turbidity & Potability & Trihalomethanes & ph & Sulfate & \\\\\n",
       "\\hline\n",
       "\t1591 & 1    & 1    & 1    & 1    & 1    & 1    & 1    & 1    &   1  &   1  &   1  &    0\\\\\n",
       "\t529 & 1    & 1    & 1    & 1    & 1    & 1    & 1    & 1    &   1  &   1  &   0  &    1\\\\\n",
       "\t291 & 1    & 1    & 1    & 1    & 1    & 1    & 1    & 1    &   1  &   0  &   1  &    1\\\\\n",
       "\t80 & 1    & 1    & 1    & 1    & 1    & 1    & 1    & 1    &   1  &   0  &   0  &    2\\\\\n",
       "\t85 & 1    & 1    & 1    & 1    & 1    & 1    & 1    & 1    &   0  &   1  &   1  &    1\\\\\n",
       "\t24 & 1    & 1    & 1    & 1    & 1    & 1    & 1    & 1    &   0  &   1  &   0  &    2\\\\\n",
       "\t15 & 1    & 1    & 1    & 1    & 1    & 1    & 1    & 1    &   0  &   0  &   1  &    2\\\\\n",
       "\t5 & 1    & 1    & 1    & 1    & 1    & 1    & 1    & 1    &   0  &   0  &   0  &    3\\\\\n",
       "\t & 0    & 0    & 0    & 0    & 0    & 0    & 0    & 0    & 129  & 391  & 638  & 1158\\\\\n",
       "\\end{tabular}\n"
      ],
      "text/markdown": [
       "\n",
       "| <!--/--> | X | Hardness | Solids | Chloramines | Conductivity | Organic_carbon | Turbidity | Potability | Trihalomethanes | ph | Sulfate |  |\n",
       "|---|---|---|---|---|---|---|---|---|---|---|---|---|\n",
       "| 1591 | 1    | 1    | 1    | 1    | 1    | 1    | 1    | 1    |   1  |   1  |   1  |    0 |\n",
       "| 529 | 1    | 1    | 1    | 1    | 1    | 1    | 1    | 1    |   1  |   1  |   0  |    1 |\n",
       "| 291 | 1    | 1    | 1    | 1    | 1    | 1    | 1    | 1    |   1  |   0  |   1  |    1 |\n",
       "| 80 | 1    | 1    | 1    | 1    | 1    | 1    | 1    | 1    |   1  |   0  |   0  |    2 |\n",
       "| 85 | 1    | 1    | 1    | 1    | 1    | 1    | 1    | 1    |   0  |   1  |   1  |    1 |\n",
       "| 24 | 1    | 1    | 1    | 1    | 1    | 1    | 1    | 1    |   0  |   1  |   0  |    2 |\n",
       "| 15 | 1    | 1    | 1    | 1    | 1    | 1    | 1    | 1    |   0  |   0  |   1  |    2 |\n",
       "| 5 | 1    | 1    | 1    | 1    | 1    | 1    | 1    | 1    |   0  |   0  |   0  |    3 |\n",
       "|  | 0    | 0    | 0    | 0    | 0    | 0    | 0    | 0    | 129  | 391  | 638  | 1158 |\n",
       "\n"
      ],
      "text/plain": [
       "     X Hardness Solids Chloramines Conductivity Organic_carbon Turbidity\n",
       "1591 1 1        1      1           1            1              1        \n",
       "529  1 1        1      1           1            1              1        \n",
       "291  1 1        1      1           1            1              1        \n",
       "80   1 1        1      1           1            1              1        \n",
       "85   1 1        1      1           1            1              1        \n",
       "24   1 1        1      1           1            1              1        \n",
       "15   1 1        1      1           1            1              1        \n",
       "5    1 1        1      1           1            1              1        \n",
       "     0 0        0      0           0            0              0        \n",
       "     Potability Trihalomethanes ph  Sulfate     \n",
       "1591 1            1               1   1        0\n",
       "529  1            1               1   0        1\n",
       "291  1            1               0   1        1\n",
       "80   1            1               0   0        2\n",
       "85   1            0               1   1        1\n",
       "24   1            0               1   0        2\n",
       "15   1            0               0   1        2\n",
       "5    1            0               0   0        3\n",
       "     0          129             391 638     1158"
      ]
     },
     "metadata": {},
     "output_type": "display_data"
    },
    {
     "data": {
      "image/png": "[encoded data removed]",
      "text/plain": [
       "plot without title"
      ]
     },
     "metadata": {},
     "output_type": "display_data"
    }
   ],
   "source": [
    "md.pattern(df)"
   ]
  },
  {
   "cell_type": "code",
   "execution_count": null,
   "id": "c1ef7506",
   "metadata": {},
   "outputs": [],
   "source": []
  },
  {
   "cell_type": "code",
   "execution_count": null,
   "id": "92026ea9",
   "metadata": {},
   "outputs": [],
   "source": []
  },
  {
   "cell_type": "code",
   "execution_count": null,
   "id": "fc68ce6d",
   "metadata": {},
   "outputs": [],
   "source": [
    "# Next Step"
   ]
  },
  {
   "cell_type": "code",
   "execution_count": null,
   "id": "0fe9577e",
   "metadata": {},
   "outputs": [],
   "source": []
  },
  {
   "cell_type": "code",
   "execution_count": null,
   "id": "14b337c1",
   "metadata": {},
   "outputs": [],
   "source": []
  },
  {
   "cell_type": "code",
   "execution_count": null,
   "id": "e491f7c5",
   "metadata": {},
   "outputs": [],
   "source": []
  },
  {
   "cell_type": "code",
   "execution_count": null,
   "id": "ac0c9dfc",
   "metadata": {},
   "outputs": [],
   "source": []
  },
  {
   "cell_type": "code",
   "execution_count": null,
   "id": "ce8abba6",
   "metadata": {},
   "outputs": [],
   "source": []
  },
  {
   "cell_type": "code",
   "execution_count": null,
   "id": "856d93f5",
   "metadata": {},
   "outputs": [],
   "source": []
  },
  {
   "cell_type": "code",
   "execution_count": null,
   "id": "719142e0",
   "metadata": {},
   "outputs": [],
   "source": []
  },
  {
   "cell_type": "code",
   "execution_count": null,
   "id": "47001cb6",
   "metadata": {},
   "outputs": [],
   "source": []
  },
  {
   "cell_type": "code",
   "execution_count": null,
   "id": "21117cc0",
   "metadata": {},
   "outputs": [],
   "source": [
    "\n"
   ]
  },
  {
   "cell_type": "code",
   "execution_count": 7,
   "id": "4cadb458",
   "metadata": {},
   "outputs": [],
   "source": []
  },
  {
   "cell_type": "code",
   "execution_count": 7,
   "id": "8321a56e",
   "metadata": {},
   "outputs": [
    {
     "data": {
      "text/plain": [
       "   Min. 1st Qu.  Median    Mean 3rd Qu.    Max.    NA's \n",
       "  0.000   6.082   7.038   7.082   8.070  14.000     391 "
      ]
     },
     "metadata": {},
     "output_type": "display_data"
    }
   ],
   "source": [
    "summary(ph)"
   ]
  },
  {
   "cell_type": "code",
   "execution_count": 8,
   "id": "0e53a1df",
   "metadata": {},
   "outputs": [
    {
     "data": {
      "text/html": [
       "391"
      ],
      "text/latex": [
       "391"
      ],
      "text/markdown": [
       "391"
      ],
      "text/plain": [
       "[1] 391"
      ]
     },
     "metadata": {},
     "output_type": "display_data"
    },
    {
     "data": {
      "text/html": [
       "638"
      ],
      "text/latex": [
       "638"
      ],
      "text/markdown": [
       "638"
      ],
      "text/plain": [
       "[1] 638"
      ]
     },
     "metadata": {},
     "output_type": "display_data"
    }
   ],
   "source": [
    "# Missing Values\n",
    "ph_mis_val <-sum(is.na(ph))\n",
    "ph_mis_val\n",
    "sum(is.na(sulfate))"
   ]
  },
  {
   "cell_type": "code",
   "execution_count": null,
   "id": "0de92936",
   "metadata": {},
   "outputs": [],
   "source": [
    "# Analysis of ph"
   ]
  },
  {
   "cell_type": "code",
   "execution_count": 53,
   "id": "2d036f48",
   "metadata": {},
   "outputs": [
    {
     "data": {
      "text/plain": [
       "   Min. 1st Qu.  Median    Mean 3rd Qu.    Max. \n",
       "  0.000   6.081   7.042   7.101   8.113  14.000 "
      ]
     },
     "metadata": {},
     "output_type": "display_data"
    }
   ],
   "source": [
    "summary(complete_data$ph)"
   ]
  },
  {
   "cell_type": "code",
   "execution_count": null,
   "id": "038ace4a",
   "metadata": {},
   "outputs": [],
   "source": []
  },
  {
   "cell_type": "code",
   "execution_count": 118,
   "id": "69e7d5f4",
   "metadata": {},
   "outputs": [
    {
     "name": "stderr",
     "output_type": "stream",
     "text": [
      "`stat_bin()` using `bins = 30`. Pick better value with `binwidth`.\n"
     ]
    },
    {
     "data": {
      "image/png": "[encoded data removed]",
      "text/plain": [
       "plot without title"
      ]
     },
     "metadata": {},
     "output_type": "display_data"
    }
   ],
   "source": [
    "\n",
    "options(repr.plot.width = 4, repr.plot.height = 3)\n",
    "ggplot(complete_data,aes(x=ph))+geom_histogram(aes(y=..density..),color=\"black\",fill=\"white\")+geom_density(alpha=.2, fill=\"#FF6666\")"
   ]
  },
  {
   "cell_type": "code",
   "execution_count": 120,
   "id": "e6f2a253",
   "metadata": {},
   "outputs": [
    {
     "data": {
      "image/png": "[encoded data removed]",
      "text/plain": [
       "plot without title"
      ]
     },
     "metadata": {},
     "output_type": "display_data"
    }
   ],
   "source": [
    "#ggplot(df,aes(x=sulfate))+geom_boxplot(stat=\"identity\")\n",
    "#ggplot(df, aes(x = Conductivity)) +geom_boxplot()\n",
    "#boxplot(df$ph)\n",
    "options(repr.plot.width = 4, repr.plot.height = 3)\n",
    "ggplot(complete_data, aes(x=\"\",y=ph)) + geom_boxplot(width = 0.5)"
   ]
  },
  {
   "cell_type": "code",
   "execution_count": 211,
   "id": "789fa19d",
   "metadata": {},
   "outputs": [
    {
     "data": {
      "image/png": "[encoded data removed]",
      "text/plain": [
       "plot without title"
      ]
     },
     "metadata": {},
     "output_type": "display_data"
    }
   ],
   "source": [
    "options(repr.plot.width = 4, repr.plot.height = 3)\n",
    "ggplot(complete_data, aes(x=as.factor(Potability),y=ph)) + geom_boxplot(width = 0.5)"
   ]
  },
  {
   "cell_type": "code",
   "execution_count": 228,
   "id": "ee8ce19c",
   "metadata": {},
   "outputs": [
    {
     "data": {
      "image/png": "[encoded data removed]",
      "text/plain": [
       "plot without title"
      ]
     },
     "metadata": {},
     "output_type": "display_data"
    }
   ],
   "source": [
    "ggplot(data = complete_data, aes(x=Turbidity, y = Hardness, color = Potability)) + geom_point()\n"
   ]
  },
  {
   "cell_type": "code",
   "execution_count": 232,
   "id": "fd777cf1",
   "metadata": {},
   "outputs": [
    {
     "ename": "ERROR",
     "evalue": "Error in `[.data.frame`(complete_data, c(\"ph\", \"Hardness\", \"Solids\", \"Chloramines\", : undefined columns selected\n",
     "output_type": "error",
     "traceback": [
      "Error in `[.data.frame`(complete_data, c(\"ph\", \"Hardness\", \"Solids\", \"Chloramines\", : undefined columns selected\nTraceback:\n",
      "1. cor(complete_data[c(\"ph\", \"Hardness\", \"Solids\", \"Chloramines\", \n .     \"Sulfate\", \"Conductivity\", \" Organic_carbon \", \"Trihalomethanes\", \n .     \" Turbidity\")])",
      "2. is.data.frame(x)",
      "3. complete_data[c(\"ph\", \"Hardness\", \"Solids\", \"Chloramines\", \"Sulfate\", \n .     \"Conductivity\", \" Organic_carbon \", \"Trihalomethanes\", \" Turbidity\")]",
      "4. `[.data.frame`(complete_data, c(\"ph\", \"Hardness\", \"Solids\", \"Chloramines\", \n .     \"Sulfate\", \"Conductivity\", \" Organic_carbon \", \"Trihalomethanes\", \n .     \" Turbidity\"))",
      "5. stop(\"undefined columns selected\")"
     ]
    }
   ],
   "source": [
    "library(corrplot)\n",
    "\n",
    "# Compute correlation matrix\n",
    "cor_mat <- cor(complete_data[c(\"ph\", \"Hardness\" , \"Solids\"  ,\"Chloramines\"  ,\"Sulfate\" , \"Conductivity\" ,\" Organic_carbon \", \"Trihalomethanes\" ,\" Turbidity\")])\n",
    "\n",
    "# Create correlation plot\n",
    "corrplot(cor_mat, method = \"circle\")\n"
   ]
  },
  {
   "cell_type": "code",
   "execution_count": 240,
   "id": "b7bfe134",
   "metadata": {},
   "outputs": [
    {
     "ename": "ERROR",
     "evalue": "Error in cor(scaled_data[c(\"ph\", \"Hardness\", \"Solids\", \"Chloramines\", : supply both 'x' and 'y' or a matrix-like 'x'\n",
     "output_type": "error",
     "traceback": [
      "Error in cor(scaled_data[c(\"ph\", \"Hardness\", \"Solids\", \"Chloramines\", : supply both 'x' and 'y' or a matrix-like 'x'\nTraceback:\n",
      "1. cor(scaled_data[c(\"ph\", \"Hardness\", \"Solids\", \"Chloramines\", \n .     \"Sulfate\", \"Conductivity\", \"Organic_carbon\", \"Trihalomethanes\", \n .     \"Turbidity\")])",
      "2. stop(\"supply both 'x' and 'y' or a matrix-like 'x'\")"
     ]
    }
   ],
   "source": [
    "library(corrplot)\n",
    "\n",
    "data_to_scale <- complete_data[,1:(ncol(complete_data)-1)]\n",
    "scaled_data <- scale(data_to_scale)\n",
    "# Compute correlation matrix\n",
    "cor_mat <- cor(scaled_data[c(\"ph\", \"Hardness\", \"Solids\", \"Chloramines\", \"Sulfate\", \"Conductivity\", \"Organic_carbon\", \"Trihalomethanes\", \"Turbidity\")])\n",
    "\n",
    "# Create correlation plot\n",
    "corrplot(cor_mat, method = \"circle\")\n"
   ]
  },
  {
   "cell_type": "code",
   "execution_count": null,
   "id": "b39dfcd7",
   "metadata": {},
   "outputs": [],
   "source": []
  },
  {
   "cell_type": "code",
   "execution_count": 235,
   "id": "550832bf",
   "metadata": {},
   "outputs": [
    {
     "ename": "ERROR",
     "evalue": "Error in library(GGally): there is no package called 'GGally'\n",
     "output_type": "error",
     "traceback": [
      "Error in library(GGally): there is no package called 'GGally'\nTraceback:\n",
      "1. library(GGally)"
     ]
    }
   ],
   "source": [
    "\n",
    "cont_vars <- complete_data[,c(\"X\", \"ph\", \"Hardness\", \"Solids\", \"Chloramines\", \n",
    "                              \"Sulfate\", \"Conductivity\", \"Organic_carbon\", \n",
    "                              \"Trihalomethanes\")]\n",
    "\n",
    "# Use GGally's ggpairs function to create a scatter plot matrix with the categorical variable\n",
    "ggpairs(cont_vars, aes(color = as.factor(Potability)))"
   ]
  },
  {
   "cell_type": "code",
   "execution_count": 128,
   "id": "512e993b",
   "metadata": {},
   "outputs": [
    {
     "data": {
      "text/html": [
       "<ol class=list-inline>\n",
       "\t<li>2.97442941047853</li>\n",
       "\t<li>11.2445071427</li>\n",
       "\t<li>2.53811577348136</li>\n",
       "\t<li>0.989912212879139</li>\n",
       "\t<li>11.4910109083914</li>\n",
       "\t<li>11.8980780297404</li>\n",
       "\t<li>11.1802844707216</li>\n",
       "\t<li>0.227499050202199</li>\n",
       "\t<li>1.75703711549078</li>\n",
       "\t<li>11.4910109083914</li>\n",
       "\t<li>13.175401724233</li>\n",
       "\t<li>13.3498885606623</li>\n",
       "\t<li>11.1806946644619</li>\n",
       "\t<li>11.235425957161</li>\n",
       "\t<li>11.5348804911176</li>\n",
       "\t<li>14</li>\n",
       "\t<li>2.69083124040881</li>\n",
       "\t<li>11.4497392963023</li>\n",
       "\t<li>2.80356305743717</li>\n",
       "\t<li>11.5631690646278</li>\n",
       "\t<li>0.975577989772022</li>\n",
       "\t<li>1.98538335926305</li>\n",
       "\t<li>2.9251743203391</li>\n",
       "\t<li>11.1802844707216</li>\n",
       "\t<li>11.3905431095636</li>\n",
       "\t<li>2.94546906112269</li>\n",
       "\t<li>11.621140134487</li>\n",
       "\t<li>13.541240236568</li>\n",
       "\t<li>2.61203591481726</li>\n",
       "\t<li>2.55810279922007</li>\n",
       "\t<li>13.175401724233</li>\n",
       "\t<li>2.9251743203391</li>\n",
       "\t<li>2.56924356202792</li>\n",
       "\t<li>1.84453836649884</li>\n",
       "\t<li>1.84453836649884</li>\n",
       "\t<li>0</li>\n",
       "\t<li>11.9077398296698</li>\n",
       "\t<li>11.1806946644619</li>\n",
       "\t<li>11.496858885302</li>\n",
       "\t<li>2.37676807595995</li>\n",
       "\t<li>2.69083124040881</li>\n",
       "\t<li>11.5687679659142</li>\n",
       "\t<li>2.55810279922007</li>\n",
       "\t<li>11.4967024526942</li>\n",
       "\t<li>11.267828384714</li>\n",
       "</ol>\n"
      ],
      "text/latex": [
       "\\begin{enumerate*}\n",
       "\\item 2.97442941047853\n",
       "\\item 11.2445071427\n",
       "\\item 2.53811577348136\n",
       "\\item 0.989912212879139\n",
       "\\item 11.4910109083914\n",
       "\\item 11.8980780297404\n",
       "\\item 11.1802844707216\n",
       "\\item 0.227499050202199\n",
       "\\item 1.75703711549078\n",
       "\\item 11.4910109083914\n",
       "\\item 13.175401724233\n",
       "\\item 13.3498885606623\n",
       "\\item 11.1806946644619\n",
       "\\item 11.235425957161\n",
       "\\item 11.5348804911176\n",
       "\\item 14\n",
       "\\item 2.69083124040881\n",
       "\\item 11.4497392963023\n",
       "\\item 2.80356305743717\n",
       "\\item 11.5631690646278\n",
       "\\item 0.975577989772022\n",
       "\\item 1.98538335926305\n",
       "\\item 2.9251743203391\n",
       "\\item 11.1802844707216\n",
       "\\item 11.3905431095636\n",
       "\\item 2.94546906112269\n",
       "\\item 11.621140134487\n",
       "\\item 13.541240236568\n",
       "\\item 2.61203591481726\n",
       "\\item 2.55810279922007\n",
       "\\item 13.175401724233\n",
       "\\item 2.9251743203391\n",
       "\\item 2.56924356202792\n",
       "\\item 1.84453836649884\n",
       "\\item 1.84453836649884\n",
       "\\item 0\n",
       "\\item 11.9077398296698\n",
       "\\item 11.1806946644619\n",
       "\\item 11.496858885302\n",
       "\\item 2.37676807595995\n",
       "\\item 2.69083124040881\n",
       "\\item 11.5687679659142\n",
       "\\item 2.55810279922007\n",
       "\\item 11.4967024526942\n",
       "\\item 11.267828384714\n",
       "\\end{enumerate*}\n"
      ],
      "text/markdown": [
       "1. 2.97442941047853\n",
       "2. 11.2445071427\n",
       "3. 2.53811577348136\n",
       "4. 0.989912212879139\n",
       "5. 11.4910109083914\n",
       "6. 11.8980780297404\n",
       "7. 11.1802844707216\n",
       "8. 0.227499050202199\n",
       "9. 1.75703711549078\n",
       "10. 11.4910109083914\n",
       "11. 13.175401724233\n",
       "12. 13.3498885606623\n",
       "13. 11.1806946644619\n",
       "14. 11.235425957161\n",
       "15. 11.5348804911176\n",
       "16. 14\n",
       "17. 2.69083124040881\n",
       "18. 11.4497392963023\n",
       "19. 2.80356305743717\n",
       "20. 11.5631690646278\n",
       "21. 0.975577989772022\n",
       "22. 1.98538335926305\n",
       "23. 2.9251743203391\n",
       "24. 11.1802844707216\n",
       "25. 11.3905431095636\n",
       "26. 2.94546906112269\n",
       "27. 11.621140134487\n",
       "28. 13.541240236568\n",
       "29. 2.61203591481726\n",
       "30. 2.55810279922007\n",
       "31. 13.175401724233\n",
       "32. 2.9251743203391\n",
       "33. 2.56924356202792\n",
       "34. 1.84453836649884\n",
       "35. 1.84453836649884\n",
       "36. 0\n",
       "37. 11.9077398296698\n",
       "38. 11.1806946644619\n",
       "39. 11.496858885302\n",
       "40. 2.37676807595995\n",
       "41. 2.69083124040881\n",
       "42. 11.5687679659142\n",
       "43. 2.55810279922007\n",
       "44. 11.4967024526942\n",
       "45. 11.267828384714\n",
       "\n",
       "\n"
      ],
      "text/plain": [
       " [1]  2.9744294 11.2445071  2.5381158  0.9899122 11.4910109 11.8980780\n",
       " [7] 11.1802845  0.2274991  1.7570371 11.4910109 13.1754017 13.3498886\n",
       "[13] 11.1806947 11.2354260 11.5348805 14.0000000  2.6908312 11.4497393\n",
       "[19]  2.8035631 11.5631691  0.9755780  1.9853834  2.9251743 11.1802845\n",
       "[25] 11.3905431  2.9454691 11.6211401 13.5412402  2.6120359  2.5581028\n",
       "[31] 13.1754017  2.9251743  2.5692436  1.8445384  1.8445384  0.0000000\n",
       "[37] 11.9077398 11.1806947 11.4968589  2.3767681  2.6908312 11.5687680\n",
       "[43]  2.5581028 11.4967025 11.2678284"
      ]
     },
     "metadata": {},
     "output_type": "display_data"
    }
   ],
   "source": [
    "ph_outliers <- boxplot.stats(complete_data$ph)$out\n",
    "#ph_outliers\n",
    "# \n",
    "complete_data <- complete_data\n",
    "# A problem comes, i am going to remove the outliers but how can i know which is outliers \n",
    "# as in classification  "
   ]
  },
  {
   "cell_type": "code",
   "execution_count": 201,
   "id": "15858ecc",
   "metadata": {},
   "outputs": [
    {
     "ename": "ERROR",
     "evalue": "Error in complete_data$ph: $ operator is invalid for atomic vectors\n",
     "output_type": "error",
     "traceback": [
      "Error in complete_data$ph: $ operator is invalid for atomic vectors\nTraceback:\n"
     ]
    }
   ],
   "source": [
    "# here from very brief\n",
    "ph_outliers<-complete_data$ph[(complete_data$ph<2 & complete_data$Potability==1) | (complete_data$ph>9 & complete_data$Potability==1) ]\n",
    "ph_outliers"
   ]
  },
  {
   "cell_type": "code",
   "execution_count": 180,
   "id": "73aae8ab",
   "metadata": {},
   "outputs": [
    {
     "data": {
      "text/html": [
       "2620"
      ],
      "text/latex": [
       "2620"
      ],
      "text/markdown": [
       "2620"
      ],
      "text/plain": [
       "[1] 2620"
      ]
     },
     "metadata": {},
     "output_type": "display_data"
    }
   ],
   "source": [
    "nrow(complete_data)"
   ]
  },
  {
   "cell_type": "code",
   "execution_count": 209,
   "id": "6768ee1c",
   "metadata": {},
   "outputs": [
    {
     "data": {
      "text/html": [
       "2508"
      ],
      "text/latex": [
       "2508"
      ],
      "text/markdown": [
       "2508"
      ],
      "text/plain": [
       "[1] 2508"
      ]
     },
     "metadata": {},
     "output_type": "display_data"
    }
   ],
   "source": [
    "# now removing all the outliers from dataset \n",
    "# that is, the value which has more acidic but still potable \n",
    "# and more basic but still potable\n",
    "# is there any other value needed to be removed?\n",
    "# need to think\n",
    "filtered_data <- subset(complete_data,!((ph <= 2 & Potability==1) |(ph >=9  & Potability==1)))\n",
    "\n",
    "\n",
    "\n",
    "nrow(filtered_data)"
   ]
  },
  {
   "cell_type": "code",
   "execution_count": 212,
   "id": "dd6d002a",
   "metadata": {},
   "outputs": [
    {
     "data": {
      "image/png": "[encoded data removed]",
      "text/plain": [
       "plot without title"
      ]
     },
     "metadata": {},
     "output_type": "display_data"
    }
   ],
   "source": [
    "options(repr.plot.width = 4, repr.plot.height = 3)\n",
    "ggplot(filtered_data, aes(x=as.factor(Potability),y=ph)) + geom_boxplot(width = 0.5)"
   ]
  },
  {
   "cell_type": "code",
   "execution_count": 214,
   "id": "878667cc",
   "metadata": {},
   "outputs": [
    {
     "name": "stderr",
     "output_type": "stream",
     "text": [
      "Warning message in chisq.test(filtered_data$Potability, filtered_data$ph):\n",
      "\"Chi-squared approximation may be incorrect\""
     ]
    },
    {
     "data": {
      "text/plain": [
       "\n",
       "\tPearson's Chi-squared test\n",
       "\n",
       "data:  filtered_data$Potability and filtered_data$ph\n",
       "X-squared = 2162.9, df = 2162, p-value = 0.4905\n"
      ]
     },
     "metadata": {},
     "output_type": "display_data"
    }
   ],
   "source": [
    "chisq.test(filtered_data$Potability,filtered_data$ph)"
   ]
  },
  {
   "cell_type": "code",
   "execution_count": 160,
   "id": "57bd0634",
   "metadata": {},
   "outputs": [
    {
     "ename": "ERROR",
     "evalue": "Error in fisher.test(complete_data$Potability, complete_data$ph): FEXACT error 40.\nOut of workspace.\n",
     "output_type": "error",
     "traceback": [
      "Error in fisher.test(complete_data$Potability, complete_data$ph): FEXACT error 40.\nOut of workspace.\nTraceback:\n",
      "1. fisher.test(complete_data$Potability, complete_data$ph)"
     ]
    }
   ],
   "source": [
    "fisher.test(complete_data$Potability,complete_data$ph)"
   ]
  },
  {
   "cell_type": "code",
   "execution_count": 162,
   "id": "e85bd669",
   "metadata": {},
   "outputs": [
    {
     "data": {
      "text/plain": [
       "              Df Sum Sq Mean Sq F value Pr(>F)\n",
       "Potability     1      0  0.1217   0.046  0.831\n",
       "Residuals   2618   6958  2.6578               "
      ]
     },
     "metadata": {},
     "output_type": "display_data"
    }
   ],
   "source": [
    "model <- aov(ph ~ Potability, data = complete_data)\n",
    "summary(model)"
   ]
  },
  {
   "cell_type": "code",
   "execution_count": 241,
   "id": "e3b46b2a",
   "metadata": {},
   "outputs": [
    {
     "data": {
      "text/html": [
       "1022"
      ],
      "text/latex": [
       "1022"
      ],
      "text/markdown": [
       "1022"
      ],
      "text/plain": [
       "[1] 1022"
      ]
     },
     "metadata": {},
     "output_type": "display_data"
    },
    {
     "data": {
      "text/html": [
       "1598"
      ],
      "text/latex": [
       "1598"
      ],
      "text/markdown": [
       "1598"
      ],
      "text/plain": [
       "[1] 1598"
      ]
     },
     "metadata": {},
     "output_type": "display_data"
    }
   ],
   "source": [
    "\n",
    "sum(complete_data$Potability==1)\n",
    "sum(complete_data$Potability==0)"
   ]
  },
  {
   "cell_type": "code",
   "execution_count": 265,
   "id": "28305b8a",
   "metadata": {},
   "outputs": [
    {
     "data": {
      "text/html": [
       "1022"
      ],
      "text/latex": [
       "1022"
      ],
      "text/markdown": [
       "1022"
      ],
      "text/plain": [
       "[1] 1022"
      ]
     },
     "metadata": {},
     "output_type": "display_data"
    }
   ],
   "source": [
    "# dividing dataset into potable and non potable set\n",
    "\n",
    "potable_data <- subset(complete_data, Potability==1 )\n",
    "nonpotable_data <- subset(complete_data, Potability==0)\n",
    "nrow(potable_water)"
   ]
  },
  {
   "cell_type": "code",
   "execution_count": null,
   "id": "71d30b3e",
   "metadata": {},
   "outputs": [],
   "source": [
    "# my thoughts ph of 1 is very harmful\n",
    "# hence it should have correlation between ph and potability#o"
   ]
  },
  {
   "cell_type": "code",
   "execution_count": 251,
   "id": "d52a67e4",
   "metadata": {},
   "outputs": [],
   "source": [
    "potable_ph_mean <- mean(potable_data$ph)\n",
    "potable_ph_sd <- sd(potable_data$ph)\n",
    "nonpotable_ph_mean <- mean(nonpotable_data$ph)\n",
    "nonpotable_ph_sd <- sd(nonpotable_data$ph)"
   ]
  },
  {
   "cell_type": "code",
   "execution_count": 254,
   "id": "2111405a",
   "metadata": {},
   "outputs": [
    {
     "name": "stdout",
     "output_type": "stream",
     "text": [
      "Potable water pH mean: 7.10908 \n",
      "Potable water pH SD: 1.498928 \n",
      "Non-potable water pH mean: 7.095106 \n",
      "Non-potable water pH SD: 1.708974 \n"
     ]
    },
    {
     "data": {
      "text/plain": [
       "\n",
       "\tWelch Two Sample t-test\n",
       "\n",
       "data:  potable_data$ph and nonpotable_data$ph\n",
       "t = 0.22022, df = 2374.9, p-value = 0.8257\n",
       "alternative hypothesis: true difference in means is not equal to 0\n",
       "95 percent confidence interval:\n",
       " -0.1104523  0.1383993\n",
       "sample estimates:\n",
       "mean of x mean of y \n",
       " 7.109080  7.095106 \n"
      ]
     },
     "metadata": {},
     "output_type": "display_data"
    }
   ],
   "source": [
    "cat(\"Potable water pH mean:\", potable_ph_mean, \"\\n\")\n",
    "cat(\"Potable water pH SD:\", potable_ph_sd, \"\\n\")\n",
    "cat(\"Non-potable water pH mean:\", nonpotable_ph_mean, \"\\n\")\n",
    "cat(\"Non-potable water pH SD:\", nonpotable_ph_sd, \"\\n\")\n",
    "t.test(potable_data$ph, nonpotable_data$ph)"
   ]
  },
  {
   "cell_type": "code",
   "execution_count": 283,
   "id": "8574535f",
   "metadata": {},
   "outputs": [
    {
     "data": {
      "text/html": [
       "943"
      ],
      "text/latex": [
       "943"
      ],
      "text/markdown": [
       "943"
      ],
      "text/plain": [
       "[1] 943"
      ]
     },
     "metadata": {},
     "output_type": "display_data"
    }
   ],
   "source": [
    "#no such significant correlation b/w ph and potability\n",
    "# Q, it might be possible when we remove unusal values from data\n",
    "# I mean there is such values which is even has ph value tend to close to 1 but still potable\n",
    "# we are removing such values\n",
    "filtered_data <- subset(complete_data,!((ph <= 4 & Potability==1) |(ph >=9.5  & Potability==1)))\n",
    "potable_filter_ph <- subset(filtered_data, Potability==1)\n",
    "non_potable_filter_ph <- subset(filtered_data,Potability==0)\n",
    "nrow(potable_filter_ph)"
   ]
  },
  {
   "cell_type": "code",
   "execution_count": 284,
   "id": "aeea9173",
   "metadata": {},
   "outputs": [],
   "source": [
    "# now checking in the case of filtered data\n",
    "# apparently statistics should not changed significantly\n",
    "potable_ph_mean <- mean(potable_filter_ph$ph)\n",
    "potable_ph_sd <- sd(potable_filter_ph$ph)\n",
    "nonpotable_ph_mean <- mean(non_potable_filter_ph$ph)\n",
    "nonpotable_ph_sd <- sd(non_potable_filter_ph$ph)"
   ]
  },
  {
   "cell_type": "code",
   "execution_count": 285,
   "id": "f4073c1f",
   "metadata": {},
   "outputs": [
    {
     "name": "stdout",
     "output_type": "stream",
     "text": [
      "Potable water pH mean: 6.997655 \n",
      "Potable water pH SD: 1.201767 \n",
      "Non-potable water pH mean: 7.095106 \n",
      "Non-potable water pH SD: 1.708974 \n"
     ]
    },
    {
     "data": {
      "text/plain": [
       "\n",
       "\tWelch Two Sample t-test\n",
       "\n",
       "data:  potable_data$ph and nonpotable_data$ph\n",
       "t = 0.22022, df = 2374.9, p-value = 0.8257\n",
       "alternative hypothesis: true difference in means is not equal to 0\n",
       "95 percent confidence interval:\n",
       " -0.1104523  0.1383993\n",
       "sample estimates:\n",
       "mean of x mean of y \n",
       " 7.109080  7.095106 \n"
      ]
     },
     "metadata": {},
     "output_type": "display_data"
    }
   ],
   "source": [
    "cat(\"Potable water pH mean:\", potable_ph_mean, \"\\n\")\n",
    "cat(\"Potable water pH SD:\", potable_ph_sd, \"\\n\")\n",
    "cat(\"Non-potable water pH mean:\", nonpotable_ph_mean, \"\\n\")\n",
    "cat(\"Non-potable water pH SD:\", nonpotable_ph_sd, \"\\n\")\n",
    "t.test(potable_data$ph, nonpotable_data$ph)"
   ]
  },
  {
   "cell_type": "code",
   "execution_count": null,
   "id": "626a288a",
   "metadata": {},
   "outputs": [],
   "source": [
    "# yield the different result as expected early\n",
    "# our intuition is suggesting that ph should be highly correlated with the data\n"
   ]
  },
  {
   "cell_type": "code",
   "execution_count": 287,
   "id": "140dda52",
   "metadata": {},
   "outputs": [
    {
     "data": {
      "text/html": [
       "0.00418232554142176"
      ],
      "text/latex": [
       "0.00418232554142176"
      ],
      "text/markdown": [
       "0.00418232554142176"
      ],
      "text/plain": [
       "[1] 0.004182326"
      ]
     },
     "metadata": {},
     "output_type": "display_data"
    }
   ],
   "source": [
    "correlation <- cor(complete_data$ph, complete_data$Potability, method = \"pearson\")\n",
    "correlation"
   ]
  },
  {
   "cell_type": "code",
   "execution_count": 289,
   "id": "fba05734",
   "metadata": {},
   "outputs": [
    {
     "data": {
      "text/html": [
       "0.0084858496407086"
      ],
      "text/latex": [
       "0.0084858496407086"
      ],
      "text/markdown": [
       "0.0084858496407086"
      ],
      "text/plain": [
       "[1] 0.00848585"
      ]
     },
     "metadata": {},
     "output_type": "display_data"
    }
   ],
   "source": [
    "correlation <- cor(complete_data$ph, complete_data$Potability, method = \"spearman\")\n",
    "correlation"
   ]
  },
  {
   "cell_type": "code",
   "execution_count": null,
   "id": "e5d44f52",
   "metadata": {},
   "outputs": [],
   "source": [
    "# There is no correlation between ph and potability\n",
    "# Is it mean that it will has not any effect in predicting the potability?\n",
    "# "
   ]
  },
  {
   "cell_type": "code",
   "execution_count": 293,
   "id": "a0dec70e",
   "metadata": {},
   "outputs": [
    {
     "data": {
      "text/plain": [
       "\n",
       "Call:\n",
       "glm(formula = Potability ~ sulfate, data = df)\n",
       "\n",
       "Deviance Residuals: \n",
       "    Min       1Q   Median       3Q      Max  \n",
       "-0.4194  -0.3971  -0.3891   0.6016   0.6319  \n",
       "\n",
       "Coefficients:\n",
       "              Estimate Std. Error t value Pr(>|t|)    \n",
       "(Intercept)  0.4578544  0.0888608   5.152 2.83e-07 ***\n",
       "sulfate     -0.0001865  0.0002640  -0.706     0.48    \n",
       "---\n",
       "Signif. codes:  0 '***' 0.001 '**' 0.01 '*' 0.05 '.' 0.1 ' ' 1\n",
       "\n",
       "(Dispersion parameter for gaussian family taken to be 0.2392735)\n",
       "\n",
       "    Null deviance: 473.88  on 1981  degrees of freedom\n",
       "Residual deviance: 473.76  on 1980  degrees of freedom\n",
       "  (638 observations deleted due to missingness)\n",
       "AIC: 2794.1\n",
       "\n",
       "Number of Fisher Scoring iterations: 2\n"
      ]
     },
     "metadata": {},
     "output_type": "display_data"
    }
   ],
   "source": [
    "# let's do further analysis\n",
    "model <- glm(Potability ~ sulfate, data = df)\n",
    "summary(model)"
   ]
  },
  {
   "cell_type": "code",
   "execution_count": 258,
   "id": "40877cc3",
   "metadata": {},
   "outputs": [],
   "source": [
    "potable_tur_mean <- mean(potable_data$Turbidity)\n",
    "potable_tur_sd <- sd(potable_data$Turbidity)\n",
    "nonpotable_tur_mean <- mean(nonpotable_data$Turbidity)\n",
    "nonpotable_tur_sd <- sd(nonpotable_data$Turbidity)"
   ]
  },
  {
   "cell_type": "code",
   "execution_count": 260,
   "id": "486ae450",
   "metadata": {},
   "outputs": [
    {
     "name": "stdout",
     "output_type": "stream",
     "text": [
      "Potable water Tur mean: 3.977559 \n",
      "Potable water Tur SD: 0.7829277 \n",
      "Non-potable water Tur mean: 3.96473 \n",
      "Non-potable water Tur SD: 0.781078 \n"
     ]
    },
    {
     "data": {
      "text/plain": [
       "\n",
       "\tOne Sample t-test\n",
       "\n",
       "data:  potable_data$Turbidity\n",
       "t = 162.41, df = 1021, p-value < 2.2e-16\n",
       "alternative hypothesis: true mean is not equal to 0\n",
       "95 percent confidence interval:\n",
       " 3.929501 4.025616\n",
       "sample estimates:\n",
       "mean of x \n",
       " 3.977559 \n"
      ]
     },
     "metadata": {},
     "output_type": "display_data"
    }
   ],
   "source": [
    "cat(\"Potable water Tur mean:\", potable_tur_mean, \"\\n\")\n",
    "cat(\"Potable water Tur SD:\", potable_tur_sd, \"\\n\")\n",
    "cat(\"Non-potable water Tur mean:\", nonpotable_tur_mean, \"\\n\")\n",
    "cat(\"Non-potable water Tur SD:\", nonpotable_tur_sd, \"\\n\")\n",
    "t.test(potable_data$Turbidity, nonpotable_data$Turbiduty)"
   ]
  },
  {
   "cell_type": "code",
   "execution_count": 5,
   "id": "8a8d4bec",
   "metadata": {},
   "outputs": [],
   "source": [
    "library(keras)\n",
    "library(tensorflow)"
   ]
  },
  {
   "cell_type": "code",
   "execution_count": 1,
   "id": "ce68db43",
   "metadata": {},
   "outputs": [],
   "source": [
    "\n",
    "library(reticulate)"
   ]
  },
  {
   "cell_type": "code",
   "execution_count": 1,
   "id": "f2a32408",
   "metadata": {},
   "outputs": [
    {
     "name": "stderr",
     "output_type": "stream",
     "text": [
      "Removing package from 'C:/Users/usama/.conda/envs/R/Lib/R/library'\n",
      "(as 'lib' is unspecified)\n"
     ]
    },
    {
     "ename": "ERROR",
     "evalue": "Error in find.package(pkgs, lib): there is no package called 'keras'\n",
     "output_type": "error",
     "traceback": [
      "Error in find.package(pkgs, lib): there is no package called 'keras'\nTraceback:\n",
      "1. remove.packages(\"keras\")",
      "2. find.package(pkgs, lib)"
     ]
    }
   ],
   "source": [
    "remove.packages(\"keras\")"
   ]
  },
  {
   "cell_type": "code",
   "execution_count": 3,
   "id": "691d9748",
   "metadata": {},
   "outputs": [
    {
     "name": "stdout",
     "output_type": "stream",
     "text": [
      "\n",
      "  There is a binary version available but the source version is later:\n",
      "           binary source needs_compilation\n",
      "reticulate   1.20   1.28              TRUE\n",
      "\n",
      "  Binaries will be installed\n",
      "package 'reticulate' successfully unpacked and MD5 sums checked\n"
     ]
    },
    {
     "name": "stderr",
     "output_type": "stream",
     "text": [
      "Warning message:\n",
      "\"cannot remove prior installation of package 'reticulate'\"Warning message in file.copy(savedcopy, lib, recursive = TRUE):\n",
      "\"problem copying C:\\Users\\usama\\.conda\\envs\\R\\Lib\\R\\library\\00LOCK\\reticulate\\libs\\x64\\reticulate.dll to C:\\Users\\usama\\.conda\\envs\\R\\Lib\\R\\library\\reticulate\\libs\\x64\\reticulate.dll: Permission denied\"Warning message:\n",
      "\"restored 'reticulate'\""
     ]
    },
    {
     "name": "stdout",
     "output_type": "stream",
     "text": [
      "\n",
      "The downloaded binary packages are in\n",
      "\tC:\\Users\\usama\\AppData\\Local\\Temp\\RtmpeIoUpP\\downloaded_packages\n"
     ]
    }
   ],
   "source": [
    "install.packages(\"reticulate\")"
   ]
  },
  {
   "cell_type": "code",
   "execution_count": 7,
   "id": "cf2c569d",
   "metadata": {},
   "outputs": [
    {
     "ename": "ERROR",
     "evalue": "Error: Python module tensorflow.python.keras was not found.\n\nDetected Python configuration:\n\npython:         T:\\Installed Softwares\\Anaconda Installed\\python.exe\nlibpython:      T:/Installed Softwares/Anaconda Installed/python39.dll\npythonhome:     T:\\Installed Softwares\\Anaconda Installed\nversion:        3.9.12 (main, Apr  4 2022, 05:22:27) [MSC v.1916 64 bit (AMD64)]\nArchitecture:   64bit\nnumpy:          T:\\Installed Softwares\\Anaconda Installed\\lib\\site-packages\\numpy\nnumpy_version:  1.21.5\ntensorflow:     [NOT FOUND]\n\npython versions found: \n C:\\Users\\usama\\.conda\\envs\\r\\python.exe\n T:\\Installed Softwares\\Anaconda Installed\\python.exe\n C:\\Users\\usama\\.conda\\envs\\R\\python.exe\n T:\\Installed Softwares\\Anaconda Installed\\envs\\opencv4\\python.exe\n\n\n",
     "output_type": "error",
     "traceback": [
      "Error: Python module tensorflow.python.keras was not found.\n\nDetected Python configuration:\n\npython:         T:\\Installed Softwares\\Anaconda Installed\\python.exe\nlibpython:      T:/Installed Softwares/Anaconda Installed/python39.dll\npythonhome:     T:\\Installed Softwares\\Anaconda Installed\nversion:        3.9.12 (main, Apr  4 2022, 05:22:27) [MSC v.1916 64 bit (AMD64)]\nArchitecture:   64bit\nnumpy:          T:\\Installed Softwares\\Anaconda Installed\\lib\\site-packages\\numpy\nnumpy_version:  1.21.5\ntensorflow:     [NOT FOUND]\n\npython versions found: \n C:\\Users\\usama\\.conda\\envs\\r\\python.exe\n T:\\Installed Softwares\\Anaconda Installed\\python.exe\n C:\\Users\\usama\\.conda\\envs\\R\\python.exe\n T:\\Installed Softwares\\Anaconda Installed\\envs\\opencv4\\python.exe\n\n\nTraceback:\n",
      "1. keras::k_clear_session()",
      "2. keras$backend",
      "3. `$.python.builtin.module`(keras, \"backend\")",
      "4. py_resolve_module_proxy(x)",
      "5. stop(message, call. = FALSE)"
     ]
    }
   ],
   "source": [
    "library(keras)\n",
    "keras::k_clear_session()\n",
    "library(tensorflow)\n",
    "tensorflow::tf$keras$backend$clear_session()\n",
    "detach(\"package:keras\", unload = TRUE)\n",
    "detach(\"package:tensorflow\", unload = TRUE)\n"
   ]
  },
  {
   "cell_type": "code",
   "execution_count": 41,
   "id": "ba2b221c",
   "metadata": {},
   "outputs": [
    {
     "name": "stdout",
     "output_type": "stream",
     "text": [
      "\n",
      "  There are binary versions available (and will be installed) but the\n",
      "  source versions are later:\n",
      "           binary source\n",
      "keras       2.4.0 2.11.1\n",
      "tensorflow  2.4.0 2.11.0\n",
      "\n"
     ]
    },
    {
     "name": "stderr",
     "output_type": "stream",
     "text": [
      "Warning message:\n",
      "\"packages 'keras', 'tensorflow' are in use and will not be installed\""
     ]
    }
   ],
   "source": [
    "install.packages(c(\"keras\", \"tensorflow\"), type = \"binary\")\n"
   ]
  },
  {
   "cell_type": "code",
   "execution_count": 5,
   "id": "53f7d559",
   "metadata": {},
   "outputs": [],
   "source": [
    "#install.packages(\"tensorflow\")\n",
    "#install.packages(\"keras\")"
   ]
  },
  {
   "cell_type": "code",
   "execution_count": 6,
   "id": "f7c3b468",
   "metadata": {},
   "outputs": [
    {
     "ename": "ERROR",
     "evalue": "Error in eval(expr, envir, enclos): object 'complete_data' not found\n",
     "output_type": "error",
     "traceback": [
      "Error in eval(expr, envir, enclos): object 'complete_data' not found\nTraceback:\n"
     ]
    }
   ],
   "source": [
    "x_train <- complete_data[,-ncol(complete_data)]\n",
    "#x_train <- as.matrix(x_train)\n",
    "y_train <- test_data$Potability\n"
   ]
  },
  {
   "cell_type": "code",
   "execution_count": 42,
   "id": "e51046f1",
   "metadata": {},
   "outputs": [],
   "source": [
    "#Sys.setenv(RETICULATE_PYTHON = \"T:/Installed Softwares/Anaconda Installed/python.exe\")\n",
    "#use_python(\"reticulate\")\n",
    "#system(\"T:\\\\Installed Softwares\\\\Anaconda Installed\\\\python.exe --3.9.12\")"
   ]
  },
  {
   "cell_type": "code",
   "execution_count": 9,
   "id": "06168162",
   "metadata": {},
   "outputs": [
    {
     "data": {
      "text/plain": [
       "NULL"
      ]
     },
     "metadata": {},
     "output_type": "display_data"
    }
   ],
   "source": [
    "tf_version()"
   ]
  },
  {
   "cell_type": "code",
   "execution_count": 11,
   "id": "f2512f41",
   "metadata": {},
   "outputs": [
    {
     "name": "stderr",
     "output_type": "stream",
     "text": [
      "Warning message in normalizePath(path.expand(path), winslash, mustWork):\n",
      "\"path[1]=\"C:\\Users\\usama\\.conda\\envs\\rstudio/python.exe\": The system cannot find the file specified\""
     ]
    },
    {
     "ename": "ERROR",
     "evalue": "Error: Error 1 occurred installing packages into conda environment r-reticulate\n",
     "output_type": "error",
     "traceback": [
      "Error: Error 1 occurred installing packages into conda environment r-reticulate\nTraceback:\n",
      "1. reticulate::py_install(\"tensorflow\")",
      "2. conda_install(envname, packages, conda = conda, ...)",
      "3. stop(\"Error \", result, \" occurred installing packages into conda environment \", \n .     envname, call. = FALSE)"
     ]
    }
   ],
   "source": [
    "reticulate::py_install(\"tensorflow\")"
   ]
  },
  {
   "cell_type": "code",
   "execution_count": 3,
   "id": "cc7b7cd1",
   "metadata": {},
   "outputs": [
    {
     "data": {
      "text/html": [
       "FALSE"
      ],
      "text/latex": [
       "FALSE"
      ],
      "text/markdown": [
       "FALSE"
      ],
      "text/plain": [
       "[1] FALSE"
      ]
     },
     "metadata": {},
     "output_type": "display_data"
    }
   ],
   "source": [
    "reticulate::py_module_available(\"tensorflow\")\n"
   ]
  },
  {
   "cell_type": "code",
   "execution_count": 2,
   "id": "124131c8",
   "metadata": {},
   "outputs": [
    {
     "data": {
      "text/plain": [
       "python:         T:\\Installed Softwares\\Anaconda Installed\\python.exe\n",
       "libpython:      T:/Installed Softwares/Anaconda Installed/python39.dll\n",
       "pythonhome:     T:\\Installed Softwares\\Anaconda Installed\n",
       "version:        3.9.12 (main, Apr  4 2022, 05:22:27) [MSC v.1916 64 bit (AMD64)]\n",
       "Architecture:   64bit\n",
       "numpy:          T:\\Installed Softwares\\Anaconda Installed\\lib\\site-packages\\numpy\n",
       "numpy_version:  1.21.5\n",
       "\n",
       "python versions found: \n",
       " C:\\Users\\usama\\.conda\\envs\\r\\python.exe\n",
       " T:\\Installed Softwares\\Anaconda Installed\\python.exe"
      ]
     },
     "metadata": {},
     "output_type": "display_data"
    }
   ],
   "source": [
    "reticulate::py_discover_config()"
   ]
  },
  {
   "cell_type": "code",
   "execution_count": 4,
   "id": "088b43ef",
   "metadata": {},
   "outputs": [],
   "source": [
    "#reticulate::py_install(\"tensorflow\")\n",
    "use_backend(\"tensorflow\")"
   ]
  },
  {
   "cell_type": "code",
   "execution_count": 5,
   "id": "a597e213",
   "metadata": {},
   "outputs": [
    {
     "ename": "ERROR",
     "evalue": "Error: Python module tensorflow.keras was not found.\n\nDetected Python configuration:\n\npython:         T:/Installed Softwares/Anaconda Installed/python.exe\nlibpython:      T:/Installed Softwares/Anaconda Installed/python39.dll\npythonhome:     T:\\Installed Softwares\\Anaconda Installed\nversion:        3.9.12 (main, Apr  4 2022, 05:22:27) [MSC v.1916 64 bit (AMD64)]\nArchitecture:   64bit\nnumpy:          T:\\Installed Softwares\\Anaconda Installed\\lib\\site-packages\\numpy\nnumpy_version:  1.21.5\ntensorflow:     [NOT FOUND]\n\npython versions found: \n T:/Installed Softwares/Anaconda Installed/python.exe\n C:\\Users\\usama\\AppData\\Local\\r-miniconda\\envs\\r-reticulate\\python.exe\n T:\\Installed Softwares\\Anaconda Installed\\python.exe\n C:\\Users\\usama\\.conda\\envs\\R\\python.exe\n C:\\Users\\usama\\AppData\\Local\\r-miniconda\\python.exe\n T:\\Installed Softwares\\Anaconda Installed\\envs\\opencv4\\python.exe\n\n\n",
     "output_type": "error",
     "traceback": [
      "Error: Python module tensorflow.keras was not found.\n\nDetected Python configuration:\n\npython:         T:/Installed Softwares/Anaconda Installed/python.exe\nlibpython:      T:/Installed Softwares/Anaconda Installed/python39.dll\npythonhome:     T:\\Installed Softwares\\Anaconda Installed\nversion:        3.9.12 (main, Apr  4 2022, 05:22:27) [MSC v.1916 64 bit (AMD64)]\nArchitecture:   64bit\nnumpy:          T:\\Installed Softwares\\Anaconda Installed\\lib\\site-packages\\numpy\nnumpy_version:  1.21.5\ntensorflow:     [NOT FOUND]\n\npython versions found: \n T:/Installed Softwares/Anaconda Installed/python.exe\n C:\\Users\\usama\\AppData\\Local\\r-miniconda\\envs\\r-reticulate\\python.exe\n T:\\Installed Softwares\\Anaconda Installed\\python.exe\n C:\\Users\\usama\\.conda\\envs\\R\\python.exe\n C:\\Users\\usama\\AppData\\Local\\r-miniconda\\python.exe\n T:\\Installed Softwares\\Anaconda Installed\\envs\\opencv4\\python.exe\n\n\nTraceback:\n",
      "1. keras_model_sequential()",
      "2. keras$models",
      "3. `$.python.builtin.module`(keras, \"models\")",
      "4. py_resolve_module_proxy(x)",
      "5. stop(message, call. = FALSE)"
     ]
    }
   ],
   "source": [
    "library(keras)\n",
    "library(tensorflow)\n",
    "library(reticulate)\n",
    "#use_python(\"T:/Installed Softwares/Anaconda Installed/python.exe\")\n",
    "use_backend(\"tensorflow\")\n",
    "model <- keras_model_sequential()\n",
    "model %>%\n",
    "  layer_dense(units = 64, activation = \"relu\", input_shape = c(10)) %>%\n",
    "  layer_dense(units = 32, activation = \"relu\") %>%\n",
    "  layer_dense(units = 1, activation = \"sigmoid\")"
   ]
  },
  {
   "cell_type": "code",
   "execution_count": 6,
   "id": "1bb72472",
   "metadata": {},
   "outputs": [
    {
     "name": "stderr",
     "output_type": "stream",
     "text": [
      "Warning message in normalizePath(path.expand(path), winslash, mustWork):\n",
      "\"path[1]=\"C:\\Users\\usama\\.conda\\envs\\rstudio/python.exe\": The system cannot find the file specified\""
     ]
    },
    {
     "ename": "ERROR",
     "evalue": "Error: Error 1 occurred installing packages into conda environment r-reticulate\n",
     "output_type": "error",
     "traceback": [
      "Error: Error 1 occurred installing packages into conda environment r-reticulate\nTraceback:\n",
      "1. reticulate::py_install(\"tensorflow==2.6.0\")",
      "2. conda_install(envname, packages, conda = conda, ...)",
      "3. stop(\"Error \", result, \" occurred installing packages into conda environment \", \n .     envname, call. = FALSE)"
     ]
    }
   ],
   "source": [
    "reticulate::py_install(\"tensorflow==2.6.0\")"
   ]
  },
  {
   "cell_type": "code",
   "execution_count": 7,
   "id": "43222d64",
   "metadata": {},
   "outputs": [
    {
     "ename": "ERROR",
     "evalue": "Error: Installation of TensorFlow not found.\n\nPython environments searched for 'tensorflow' package:\n T:\\Installed Softwares\\Anaconda Installed\\python.exe\n C:\\Users\\usama\\AppData\\Local\\r-miniconda\\envs\\r-reticulate\\python.exe\n T:\\Installed Softwares\\Anaconda Installed\\python.exe\n C:\\Users\\usama\\.conda\\envs\\R\\python.exe\n C:\\Users\\usama\\AppData\\Local\\r-miniconda\\python.exe\n T:\\Installed Softwares\\Anaconda Installed\\envs\\opencv4\\python.exe\n\nYou can install TensorFlow using the install_tensorflow() function.\n\n",
     "output_type": "error",
     "traceback": [
      "Error: Installation of TensorFlow not found.\n\nPython environments searched for 'tensorflow' package:\n T:\\Installed Softwares\\Anaconda Installed\\python.exe\n C:\\Users\\usama\\AppData\\Local\\r-miniconda\\envs\\r-reticulate\\python.exe\n T:\\Installed Softwares\\Anaconda Installed\\python.exe\n C:\\Users\\usama\\.conda\\envs\\R\\python.exe\n C:\\Users\\usama\\AppData\\Local\\r-miniconda\\python.exe\n T:\\Installed Softwares\\Anaconda Installed\\envs\\opencv4\\python.exe\n\nYou can install TensorFlow using the install_tensorflow() function.\n\nTraceback:\n",
      "1. tf$version",
      "2. `$.python.builtin.module`(tf, version)",
      "3. py_resolve_module_proxy(x)",
      "4. on_error(result)",
      "5. stop(tf_config_error_message(), call. = FALSE)"
     ]
    }
   ],
   "source": [
    "tf$version$tensorflow\n"
   ]
  },
  {
   "cell_type": "code",
   "execution_count": 8,
   "id": "337ffb3f",
   "metadata": {},
   "outputs": [
    {
     "ename": "ERROR",
     "evalue": "Error: Python module tensorflow.keras was not found.\n\nDetected Python configuration:\n\npython:         T:/Installed Softwares/Anaconda Installed/python.exe\nlibpython:      T:/Installed Softwares/Anaconda Installed/python39.dll\npythonhome:     T:\\Installed Softwares\\Anaconda Installed\nversion:        3.9.12 (main, Apr  4 2022, 05:22:27) [MSC v.1916 64 bit (AMD64)]\nArchitecture:   64bit\nnumpy:          T:\\Installed Softwares\\Anaconda Installed\\lib\\site-packages\\numpy\nnumpy_version:  1.21.5\ntensorflow:     [NOT FOUND]\n\nNOTE: Python version was forced by RETICULATE_PYTHON\n\n\n",
     "output_type": "error",
     "traceback": [
      "Error: Python module tensorflow.keras was not found.\n\nDetected Python configuration:\n\npython:         T:/Installed Softwares/Anaconda Installed/python.exe\nlibpython:      T:/Installed Softwares/Anaconda Installed/python39.dll\npythonhome:     T:\\Installed Softwares\\Anaconda Installed\nversion:        3.9.12 (main, Apr  4 2022, 05:22:27) [MSC v.1916 64 bit (AMD64)]\nArchitecture:   64bit\nnumpy:          T:\\Installed Softwares\\Anaconda Installed\\lib\\site-packages\\numpy\nnumpy_version:  1.21.5\ntensorflow:     [NOT FOUND]\n\nNOTE: Python version was forced by RETICULATE_PYTHON\n\n\nTraceback:\n",
      "1. keras_model_sequential() %>% layer_dense(units = 50, activation = \"relu\", \n .     input_shape = ncol(x)) %>% layer_dense(units = 1)",
      "2. eval(lhs, parent, parent)",
      "3. eval(lhs, parent, parent)",
      "4. keras_model_sequential()",
      "5. keras$models",
      "6. `$.python.builtin.module`(keras, \"models\")",
      "7. py_resolve_module_proxy(x)",
      "8. stop(message, call. = FALSE)"
     ]
    }
   ],
   "source": [
    "\n",
    "modnn <- keras_model_sequential() %>%\n",
    "     layer_dense(units = 50, activation = \"relu\", \n",
    "        input_shape = ncol(x)) %>%\n",
    "     layer_dense(units = 1)"
   ]
  },
  {
   "cell_type": "code",
   "execution_count": 46,
   "id": "115aa439",
   "metadata": {},
   "outputs": [
    {
     "data": {
      "text/plain": [
       "NULL"
      ]
     },
     "metadata": {},
     "output_type": "display_data"
    }
   ],
   "source": [
    "df$keras"
   ]
  },
  {
   "cell_type": "code",
   "execution_count": 35,
   "id": "6d169eeb",
   "metadata": {},
   "outputs": [
    {
     "ename": "ERROR",
     "evalue": "Error in install_tensorflow(): could not find function \"install_tensorflow\"\n",
     "output_type": "error",
     "traceback": [
      "Error in install_tensorflow(): could not find function \"install_tensorflow\"\nTraceback:\n"
     ]
    }
   ],
   "source": []
  },
  {
   "cell_type": "code",
   "execution_count": 299,
   "id": "44e11844",
   "metadata": {},
   "outputs": [
    {
     "data": {
      "text/plain": [
       "                    Length Class      Mode    \n",
       "call                    3  -none-     call    \n",
       "response             2620  -none-     numeric \n",
       "covariate           26200  -none-     numeric \n",
       "model.list              2  -none-     list    \n",
       "err.fct                 1  -none-     function\n",
       "act.fct                 1  -none-     function\n",
       "linear.output           1  -none-     logical \n",
       "data                   11  data.frame list    \n",
       "exclude                 0  -none-     NULL    \n",
       "net.result              1  -none-     list    \n",
       "weights                 1  -none-     list    \n",
       "generalized.weights     1  -none-     list    \n",
       "startweights            1  -none-     list    \n",
       "result.matrix          16  -none-     numeric "
      ]
     },
     "metadata": {},
     "output_type": "display_data"
    }
   ],
   "source": [
    "summary(Neural_model)"
   ]
  },
  {
   "cell_type": "code",
   "execution_count": 308,
   "id": "5ced7779",
   "metadata": {},
   "outputs": [
    {
     "data": {
      "text/plain": [
       "NULL"
      ]
     },
     "metadata": {},
     "output_type": "display_data"
    }
   ],
   "source": [
    "predictions <- compute(neural_model,test_data)$net_result\n",
    "predictions"
   ]
  },
  {
   "cell_type": "code",
   "execution_count": null,
   "id": "5631978d",
   "metadata": {},
   "outputs": [],
   "source": []
  }
 ],
 "metadata": {
  "kernelspec": {
   "display_name": "R",
   "language": "R",
   "name": "ir"
  },
  "language_info": {
   "codemirror_mode": "r",
   "file_extension": ".r",
   "mimetype": "text/x-r-source",
   "name": "R",
   "pygments_lexer": "r",
   "version": "3.6.1"
  }
 },
 "nbformat": 4,
 "nbformat_minor": 5
}
